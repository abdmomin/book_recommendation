{
 "cells": [
  {
   "cell_type": "code",
   "execution_count": 1,
   "id": "0ead4fc6-a4f8-4726-bbfa-65dc6e0c7f29",
   "metadata": {},
   "outputs": [],
   "source": [
    "import pandas as pd\n",
    "\n",
    "my_books = pd.read_csv('liked_books.csv', index_col=0)"
   ]
  },
  {
   "cell_type": "code",
   "execution_count": 3,
   "id": "ba27af9f-355d-4898-a64e-3ee29425ab4d",
   "metadata": {},
   "outputs": [
    {
     "data": {
      "text/html": [
       "<div>\n",
       "<style scoped>\n",
       "    .dataframe tbody tr th:only-of-type {\n",
       "        vertical-align: middle;\n",
       "    }\n",
       "\n",
       "    .dataframe tbody tr th {\n",
       "        vertical-align: top;\n",
       "    }\n",
       "\n",
       "    .dataframe thead th {\n",
       "        text-align: right;\n",
       "    }\n",
       "</style>\n",
       "<table border=\"1\" class=\"dataframe\">\n",
       "  <thead>\n",
       "    <tr style=\"text-align: right;\">\n",
       "      <th></th>\n",
       "      <th>user_id</th>\n",
       "      <th>book_id</th>\n",
       "      <th>rating</th>\n",
       "      <th>title</th>\n",
       "    </tr>\n",
       "  </thead>\n",
       "  <tbody>\n",
       "    <tr>\n",
       "      <th>0</th>\n",
       "      <td>-1</td>\n",
       "      <td>2517439</td>\n",
       "      <td>5</td>\n",
       "      <td>The Forever War  (The Forever War, #1)</td>\n",
       "    </tr>\n",
       "    <tr>\n",
       "      <th>1</th>\n",
       "      <td>-1</td>\n",
       "      <td>113576</td>\n",
       "      <td>5</td>\n",
       "      <td>The Smartest Guys in the Room: The Amazing Ris...</td>\n",
       "    </tr>\n",
       "    <tr>\n",
       "      <th>2</th>\n",
       "      <td>-1</td>\n",
       "      <td>35100</td>\n",
       "      <td>5</td>\n",
       "      <td>Battle Cry of Freedom</td>\n",
       "    </tr>\n",
       "    <tr>\n",
       "      <th>3</th>\n",
       "      <td>-1</td>\n",
       "      <td>228221</td>\n",
       "      <td>5</td>\n",
       "      <td>The Mask of Command</td>\n",
       "    </tr>\n",
       "    <tr>\n",
       "      <th>5</th>\n",
       "      <td>-1</td>\n",
       "      <td>17662739</td>\n",
       "      <td>5</td>\n",
       "      <td>2001: A Space Odyssey  (Space Odyssey, #1)</td>\n",
       "    </tr>\n",
       "  </tbody>\n",
       "</table>\n",
       "</div>"
      ],
      "text/plain": [
       "   user_id   book_id  rating  \\\n",
       "0       -1   2517439       5   \n",
       "1       -1    113576       5   \n",
       "2       -1     35100       5   \n",
       "3       -1    228221       5   \n",
       "5       -1  17662739       5   \n",
       "\n",
       "                                               title  \n",
       "0             The Forever War  (The Forever War, #1)  \n",
       "1  The Smartest Guys in the Room: The Amazing Ris...  \n",
       "2                              Battle Cry of Freedom  \n",
       "3                                The Mask of Command  \n",
       "5         2001: A Space Odyssey  (Space Odyssey, #1)  "
      ]
     },
     "execution_count": 3,
     "metadata": {},
     "output_type": "execute_result"
    }
   ],
   "source": [
    "my_books.head()"
   ]
  },
  {
   "cell_type": "code",
   "execution_count": 12,
   "id": "a563a097-9424-45ae-bedb-7b49ebeecfad",
   "metadata": {},
   "outputs": [
    {
     "data": {
      "text/plain": [
       "(27, 4)"
      ]
     },
     "execution_count": 12,
     "metadata": {},
     "output_type": "execute_result"
    }
   ],
   "source": [
    "my_books.shape"
   ]
  },
  {
   "cell_type": "code",
   "execution_count": 4,
   "id": "c8586149-61a5-4552-b1c7-24d85ac4bff1",
   "metadata": {},
   "outputs": [],
   "source": [
    "my_books['book_id'] = my_books['book_id'].astype(str)"
   ]
  },
  {
   "cell_type": "code",
   "execution_count": 5,
   "id": "311139ea-f114-41f5-bccd-baf307081d82",
   "metadata": {},
   "outputs": [
    {
     "name": "stdout",
     "output_type": "stream",
     "text": [
      "book_id_csv,book_id\n",
      "0,34684622\n",
      "1,34536488\n",
      "2,34017076\n",
      "3,71730\n",
      "4,30422361\n",
      "5,33503613\n",
      "6,33517540\n",
      "7,34467031\n",
      "8,6383669\n"
     ]
    }
   ],
   "source": [
    "!head book_id_map.csv"
   ]
  },
  {
   "cell_type": "code",
   "execution_count": 6,
   "id": "a28b56a2-7136-404e-b3be-3534043d9d9f",
   "metadata": {},
   "outputs": [],
   "source": [
    "csv_book_mapping = {}\n",
    "\n",
    "with open('book_id_map.csv', 'r') as f:\n",
    "    while True:\n",
    "        line = f.readline()\n",
    "        if not line:\n",
    "            break        \n",
    "        csv_id, book_id = line.strip().split(',')\n",
    "        csv_book_mapping[csv_id] = book_id"
   ]
  },
  {
   "cell_type": "code",
   "execution_count": 7,
   "id": "bf0bcdfb-68ae-4f05-8e62-acdb7b277a48",
   "metadata": {},
   "outputs": [],
   "source": [
    "book_set = set(my_books['book_id'])"
   ]
  },
  {
   "cell_type": "code",
   "execution_count": 8,
   "id": "c8906b38-91da-4f9f-b10f-7c4eff8da7a9",
   "metadata": {},
   "outputs": [
    {
     "name": "stdout",
     "output_type": "stream",
     "text": [
      "user_id,book_id,is_read,rating,is_reviewed\n",
      "0,948,1,5,0\n",
      "0,947,1,5,1\n",
      "0,946,1,5,0\n",
      "0,945,1,5,0\n",
      "0,944,1,5,0\n",
      "0,943,1,5,0\n",
      "0,942,1,5,0\n",
      "0,941,1,5,0\n",
      "0,940,1,5,0\n"
     ]
    }
   ],
   "source": [
    "!head goodreads_interactions.csv"
   ]
  },
  {
   "cell_type": "code",
   "execution_count": 9,
   "id": "a4596d2f-f96e-4d19-badc-afbf94ba3385",
   "metadata": {},
   "outputs": [
    {
     "name": "stdout",
     "output_type": "stream",
     "text": [
      " 228648343 goodreads_interactions.csv\n"
     ]
    }
   ],
   "source": [
    "!wc -l goodreads_interactions.csv"
   ]
  },
  {
   "cell_type": "code",
   "execution_count": 10,
   "id": "3b840a4b-f76a-4256-bf7f-85913fadf9db",
   "metadata": {},
   "outputs": [],
   "source": [
    "overlap_users = {}\n",
    "\n",
    "with open('goodreads_interactions.csv') as f:\n",
    "    while True:\n",
    "        line = f.readline()\n",
    "        if not line:\n",
    "            break\n",
    "        \n",
    "        user_id, csv_id, _, rating, _ = line.strip().split(',')\n",
    "        book_id = csv_book_mapping.get(csv_id)\n",
    "        if book_id in book_set:\n",
    "            if user_id not in overlap_users:\n",
    "                overlap_users[user_id] = 1\n",
    "            else:\n",
    "                overlap_users[user_id] += 1"
   ]
  },
  {
   "cell_type": "code",
   "execution_count": 11,
   "id": "b8181f0f-6115-4a1a-b445-ad974b6198d5",
   "metadata": {},
   "outputs": [
    {
     "data": {
      "text/plain": [
       "316341"
      ]
     },
     "execution_count": 11,
     "metadata": {},
     "output_type": "execute_result"
    }
   ],
   "source": [
    "len(overlap_users)"
   ]
  },
  {
   "cell_type": "code",
   "execution_count": 13,
   "id": "e1247ceb-acd1-490b-819e-33277fa60250",
   "metadata": {},
   "outputs": [],
   "source": [
    "filtered_overlap_users = set([i for i in overlap_users if overlap_users[i] > my_books.shape[0]/5])"
   ]
  },
  {
   "cell_type": "code",
   "execution_count": 14,
   "id": "b7852219-c25d-4439-8d49-13140bb864d2",
   "metadata": {},
   "outputs": [],
   "source": [
    "interaction_list = []\n",
    "\n",
    "with open('goodreads_interactions.csv') as f:\n",
    "    while True:\n",
    "        line = f.readline()\n",
    "        if not line:\n",
    "            break\n",
    "        \n",
    "        user_id, csv_id, _, rating, _ = line.strip().split(',')\n",
    "        if user_id in filtered_overlap_users:\n",
    "            book_id = csv_book_mapping[csv_id]\n",
    "            interaction_list.append([user_id, book_id, rating])"
   ]
  },
  {
   "cell_type": "code",
   "execution_count": 15,
   "id": "49150ccc-3f58-42d0-aae4-5c829eecfabc",
   "metadata": {},
   "outputs": [
    {
     "data": {
      "text/plain": [
       "5638701"
      ]
     },
     "execution_count": 15,
     "metadata": {},
     "output_type": "execute_result"
    }
   ],
   "source": [
    "len(interaction_list)"
   ]
  },
  {
   "cell_type": "code",
   "execution_count": 16,
   "id": "2f0e8eea-1f13-407a-9fb0-98747444a92d",
   "metadata": {},
   "outputs": [
    {
     "data": {
      "text/plain": [
       "['282', '627206', '4']"
      ]
     },
     "execution_count": 16,
     "metadata": {},
     "output_type": "execute_result"
    }
   ],
   "source": [
    "interaction_list[0]"
   ]
  },
  {
   "cell_type": "code",
   "execution_count": 17,
   "id": "5fe047ce-380c-4b45-ab53-acc733847bef",
   "metadata": {},
   "outputs": [],
   "source": [
    "interactions = pd.DataFrame(interaction_list, columns=['user_id', 'book_id', 'rating'])"
   ]
  },
  {
   "cell_type": "code",
   "execution_count": 18,
   "id": "41fa0fa0-4a7c-447c-b605-a2199fce4148",
   "metadata": {},
   "outputs": [],
   "source": [
    "interactions = pd.concat([my_books[['user_id', 'book_id', 'rating']], interactions])"
   ]
  },
  {
   "cell_type": "code",
   "execution_count": 19,
   "id": "9954ac08-bc80-44d3-90b6-32c5a8b9352e",
   "metadata": {},
   "outputs": [
    {
     "data": {
      "text/html": [
       "<div>\n",
       "<style scoped>\n",
       "    .dataframe tbody tr th:only-of-type {\n",
       "        vertical-align: middle;\n",
       "    }\n",
       "\n",
       "    .dataframe tbody tr th {\n",
       "        vertical-align: top;\n",
       "    }\n",
       "\n",
       "    .dataframe thead th {\n",
       "        text-align: right;\n",
       "    }\n",
       "</style>\n",
       "<table border=\"1\" class=\"dataframe\">\n",
       "  <thead>\n",
       "    <tr style=\"text-align: right;\">\n",
       "      <th></th>\n",
       "      <th>user_id</th>\n",
       "      <th>book_id</th>\n",
       "      <th>rating</th>\n",
       "    </tr>\n",
       "  </thead>\n",
       "  <tbody>\n",
       "    <tr>\n",
       "      <th>0</th>\n",
       "      <td>-1</td>\n",
       "      <td>2517439</td>\n",
       "      <td>5</td>\n",
       "    </tr>\n",
       "    <tr>\n",
       "      <th>1</th>\n",
       "      <td>-1</td>\n",
       "      <td>113576</td>\n",
       "      <td>5</td>\n",
       "    </tr>\n",
       "    <tr>\n",
       "      <th>2</th>\n",
       "      <td>-1</td>\n",
       "      <td>35100</td>\n",
       "      <td>5</td>\n",
       "    </tr>\n",
       "    <tr>\n",
       "      <th>3</th>\n",
       "      <td>-1</td>\n",
       "      <td>228221</td>\n",
       "      <td>5</td>\n",
       "    </tr>\n",
       "    <tr>\n",
       "      <th>5</th>\n",
       "      <td>-1</td>\n",
       "      <td>17662739</td>\n",
       "      <td>5</td>\n",
       "    </tr>\n",
       "    <tr>\n",
       "      <th>...</th>\n",
       "      <td>...</td>\n",
       "      <td>...</td>\n",
       "      <td>...</td>\n",
       "    </tr>\n",
       "    <tr>\n",
       "      <th>5638696</th>\n",
       "      <td>804100</td>\n",
       "      <td>475178</td>\n",
       "      <td>0</td>\n",
       "    </tr>\n",
       "    <tr>\n",
       "      <th>5638697</th>\n",
       "      <td>804100</td>\n",
       "      <td>186074</td>\n",
       "      <td>0</td>\n",
       "    </tr>\n",
       "    <tr>\n",
       "      <th>5638698</th>\n",
       "      <td>804100</td>\n",
       "      <td>153008</td>\n",
       "      <td>0</td>\n",
       "    </tr>\n",
       "    <tr>\n",
       "      <th>5638699</th>\n",
       "      <td>804100</td>\n",
       "      <td>45107</td>\n",
       "      <td>0</td>\n",
       "    </tr>\n",
       "    <tr>\n",
       "      <th>5638700</th>\n",
       "      <td>804100</td>\n",
       "      <td>1762198</td>\n",
       "      <td>5</td>\n",
       "    </tr>\n",
       "  </tbody>\n",
       "</table>\n",
       "<p>5638728 rows × 3 columns</p>\n",
       "</div>"
      ],
      "text/plain": [
       "        user_id   book_id rating\n",
       "0            -1   2517439      5\n",
       "1            -1    113576      5\n",
       "2            -1     35100      5\n",
       "3            -1    228221      5\n",
       "5            -1  17662739      5\n",
       "...         ...       ...    ...\n",
       "5638696  804100    475178      0\n",
       "5638697  804100    186074      0\n",
       "5638698  804100    153008      0\n",
       "5638699  804100     45107      0\n",
       "5638700  804100   1762198      5\n",
       "\n",
       "[5638728 rows x 3 columns]"
      ]
     },
     "execution_count": 19,
     "metadata": {},
     "output_type": "execute_result"
    }
   ],
   "source": [
    "interactions"
   ]
  },
  {
   "cell_type": "code",
   "execution_count": 20,
   "id": "8093b744-0327-4348-ad81-6645c9d6f883",
   "metadata": {},
   "outputs": [],
   "source": [
    "interactions['user_id'] = interactions['user_id'].astype(str)\n",
    "interactions['book_id'] = interactions['book_id'].astype(str)\n",
    "interactions['rating'] = pd.to_numeric(interactions['rating'])"
   ]
  },
  {
   "cell_type": "code",
   "execution_count": 21,
   "id": "ad225afa-529b-463b-881d-6c84570acc1b",
   "metadata": {},
   "outputs": [
    {
     "data": {
      "text/plain": [
       "array(['-1', '282', '874', ..., '442043', '712588', '804100'],\n",
       "      dtype=object)"
      ]
     },
     "execution_count": 21,
     "metadata": {},
     "output_type": "execute_result"
    }
   ],
   "source": [
    "interactions['user_id'].unique()"
   ]
  },
  {
   "cell_type": "code",
   "execution_count": 22,
   "id": "4ba76835-7912-4130-b156-3d81ae47eabf",
   "metadata": {},
   "outputs": [],
   "source": [
    "interactions['user_index'] = interactions['user_id'].astype('category').cat.codes"
   ]
  },
  {
   "cell_type": "code",
   "execution_count": 25,
   "id": "fe7da8ff-6cd9-4bb1-ba39-4ceb8ce48930",
   "metadata": {},
   "outputs": [
    {
     "data": {
      "text/plain": [
       "array([   0,  555, 1216, ..., 1054, 1143, 1183], dtype=int16)"
      ]
     },
     "execution_count": 25,
     "metadata": {},
     "output_type": "execute_result"
    }
   ],
   "source": [
    "interactions['user_index'].unique()"
   ]
  },
  {
   "cell_type": "code",
   "execution_count": 26,
   "id": "842b47b6-ef8a-4832-a780-eb6a13d52c30",
   "metadata": {},
   "outputs": [],
   "source": [
    "interactions['book_index'] = interactions['book_id'].astype('category').cat.codes"
   ]
  },
  {
   "cell_type": "code",
   "execution_count": 27,
   "id": "af9a428d-08b3-4b1d-9283-e4d593d6e6a2",
   "metadata": {},
   "outputs": [
    {
     "data": {
      "text/html": [
       "<div>\n",
       "<style scoped>\n",
       "    .dataframe tbody tr th:only-of-type {\n",
       "        vertical-align: middle;\n",
       "    }\n",
       "\n",
       "    .dataframe tbody tr th {\n",
       "        vertical-align: top;\n",
       "    }\n",
       "\n",
       "    .dataframe thead th {\n",
       "        text-align: right;\n",
       "    }\n",
       "</style>\n",
       "<table border=\"1\" class=\"dataframe\">\n",
       "  <thead>\n",
       "    <tr style=\"text-align: right;\">\n",
       "      <th></th>\n",
       "      <th>user_id</th>\n",
       "      <th>book_id</th>\n",
       "      <th>rating</th>\n",
       "      <th>user_index</th>\n",
       "      <th>book_index</th>\n",
       "    </tr>\n",
       "  </thead>\n",
       "  <tbody>\n",
       "    <tr>\n",
       "      <th>0</th>\n",
       "      <td>-1</td>\n",
       "      <td>2517439</td>\n",
       "      <td>5</td>\n",
       "      <td>0</td>\n",
       "      <td>414880</td>\n",
       "    </tr>\n",
       "    <tr>\n",
       "      <th>1</th>\n",
       "      <td>-1</td>\n",
       "      <td>113576</td>\n",
       "      <td>5</td>\n",
       "      <td>0</td>\n",
       "      <td>38971</td>\n",
       "    </tr>\n",
       "    <tr>\n",
       "      <th>2</th>\n",
       "      <td>-1</td>\n",
       "      <td>35100</td>\n",
       "      <td>5</td>\n",
       "      <td>0</td>\n",
       "      <td>575858</td>\n",
       "    </tr>\n",
       "    <tr>\n",
       "      <th>3</th>\n",
       "      <td>-1</td>\n",
       "      <td>228221</td>\n",
       "      <td>5</td>\n",
       "      <td>0</td>\n",
       "      <td>356004</td>\n",
       "    </tr>\n",
       "    <tr>\n",
       "      <th>5</th>\n",
       "      <td>-1</td>\n",
       "      <td>17662739</td>\n",
       "      <td>5</td>\n",
       "      <td>0</td>\n",
       "      <td>214285</td>\n",
       "    </tr>\n",
       "  </tbody>\n",
       "</table>\n",
       "</div>"
      ],
      "text/plain": [
       "  user_id   book_id  rating  user_index  book_index\n",
       "0      -1   2517439       5           0      414880\n",
       "1      -1    113576       5           0       38971\n",
       "2      -1     35100       5           0      575858\n",
       "3      -1    228221       5           0      356004\n",
       "5      -1  17662739       5           0      214285"
      ]
     },
     "execution_count": 27,
     "metadata": {},
     "output_type": "execute_result"
    }
   ],
   "source": [
    "interactions.head()"
   ]
  },
  {
   "cell_type": "code",
   "execution_count": 28,
   "id": "26df1d9b-375f-4f6f-b627-7997f9e7dcf4",
   "metadata": {},
   "outputs": [
    {
     "data": {
      "text/plain": [
       "1259"
      ]
     },
     "execution_count": 28,
     "metadata": {},
     "output_type": "execute_result"
    }
   ],
   "source": [
    "len(interactions['user_index'].unique())"
   ]
  },
  {
   "cell_type": "code",
   "execution_count": 29,
   "id": "b02a45cc-0089-4722-92d8-d26d0d673e34",
   "metadata": {},
   "outputs": [
    {
     "data": {
      "text/plain": [
       "802870"
      ]
     },
     "execution_count": 29,
     "metadata": {},
     "output_type": "execute_result"
    }
   ],
   "source": [
    "len(interactions['book_index'].unique())"
   ]
  },
  {
   "cell_type": "code",
   "execution_count": 30,
   "id": "2d35f52d-b8a1-4379-9251-3c3d43f1bc20",
   "metadata": {},
   "outputs": [
    {
     "data": {
      "text/plain": [
       "1010813330"
      ]
     },
     "execution_count": 30,
     "metadata": {},
     "output_type": "execute_result"
    }
   ],
   "source": [
    "1259 * 802870 # cells"
   ]
  },
  {
   "cell_type": "code",
   "execution_count": 31,
   "id": "076da9a9-9bb5-4a0a-8de8-eecb5a4b69df",
   "metadata": {},
   "outputs": [],
   "source": [
    "# sparse metrix\n",
    "from scipy.sparse import coo_matrix\n",
    "\n",
    "# coo_metrix((value, (row_position, column_position)))\n",
    "rating_coo_matrix = coo_matrix((interactions['rating'], (interactions['user_index'], interactions['book_index'])))"
   ]
  },
  {
   "cell_type": "code",
   "execution_count": 32,
   "id": "2acec1fa-03ac-4855-9e73-9edc02255d1f",
   "metadata": {},
   "outputs": [
    {
     "data": {
      "text/plain": [
       "<1259x802870 sparse matrix of type '<class 'numpy.int64'>'\n",
       "\twith 5638728 stored elements in COOrdinate format>"
      ]
     },
     "execution_count": 32,
     "metadata": {},
     "output_type": "execute_result"
    }
   ],
   "source": [
    "rating_coo_matrix"
   ]
  },
  {
   "cell_type": "code",
   "execution_count": 33,
   "id": "c7edacea-f384-4023-98d7-0945c52bfb0c",
   "metadata": {},
   "outputs": [],
   "source": [
    "ratings_matrix = rating_coo_matrix.tocsr()"
   ]
  },
  {
   "cell_type": "code",
   "execution_count": 34,
   "id": "c18386f8-a207-4e4e-8ccc-76b777116121",
   "metadata": {},
   "outputs": [
    {
     "data": {
      "text/html": [
       "<div>\n",
       "<style scoped>\n",
       "    .dataframe tbody tr th:only-of-type {\n",
       "        vertical-align: middle;\n",
       "    }\n",
       "\n",
       "    .dataframe tbody tr th {\n",
       "        vertical-align: top;\n",
       "    }\n",
       "\n",
       "    .dataframe thead th {\n",
       "        text-align: right;\n",
       "    }\n",
       "</style>\n",
       "<table border=\"1\" class=\"dataframe\">\n",
       "  <thead>\n",
       "    <tr style=\"text-align: right;\">\n",
       "      <th></th>\n",
       "      <th>user_id</th>\n",
       "      <th>book_id</th>\n",
       "      <th>rating</th>\n",
       "      <th>user_index</th>\n",
       "      <th>book_index</th>\n",
       "    </tr>\n",
       "  </thead>\n",
       "  <tbody>\n",
       "    <tr>\n",
       "      <th>0</th>\n",
       "      <td>-1</td>\n",
       "      <td>2517439</td>\n",
       "      <td>5</td>\n",
       "      <td>0</td>\n",
       "      <td>414880</td>\n",
       "    </tr>\n",
       "    <tr>\n",
       "      <th>1</th>\n",
       "      <td>-1</td>\n",
       "      <td>113576</td>\n",
       "      <td>5</td>\n",
       "      <td>0</td>\n",
       "      <td>38971</td>\n",
       "    </tr>\n",
       "    <tr>\n",
       "      <th>2</th>\n",
       "      <td>-1</td>\n",
       "      <td>35100</td>\n",
       "      <td>5</td>\n",
       "      <td>0</td>\n",
       "      <td>575858</td>\n",
       "    </tr>\n",
       "    <tr>\n",
       "      <th>3</th>\n",
       "      <td>-1</td>\n",
       "      <td>228221</td>\n",
       "      <td>5</td>\n",
       "      <td>0</td>\n",
       "      <td>356004</td>\n",
       "    </tr>\n",
       "    <tr>\n",
       "      <th>5</th>\n",
       "      <td>-1</td>\n",
       "      <td>17662739</td>\n",
       "      <td>5</td>\n",
       "      <td>0</td>\n",
       "      <td>214285</td>\n",
       "    </tr>\n",
       "    <tr>\n",
       "      <th>6</th>\n",
       "      <td>-1</td>\n",
       "      <td>356824</td>\n",
       "      <td>5</td>\n",
       "      <td>0</td>\n",
       "      <td>581743</td>\n",
       "    </tr>\n",
       "    <tr>\n",
       "      <th>7</th>\n",
       "      <td>-1</td>\n",
       "      <td>12125412</td>\n",
       "      <td>5</td>\n",
       "      <td>0</td>\n",
       "      <td>59763</td>\n",
       "    </tr>\n",
       "    <tr>\n",
       "      <th>8</th>\n",
       "      <td>-1</td>\n",
       "      <td>139069</td>\n",
       "      <td>5</td>\n",
       "      <td>0</td>\n",
       "      <td>124430</td>\n",
       "    </tr>\n",
       "    <tr>\n",
       "      <th>10</th>\n",
       "      <td>-1</td>\n",
       "      <td>76680</td>\n",
       "      <td>5</td>\n",
       "      <td>0</td>\n",
       "      <td>722098</td>\n",
       "    </tr>\n",
       "    <tr>\n",
       "      <th>11</th>\n",
       "      <td>-1</td>\n",
       "      <td>1898</td>\n",
       "      <td>5</td>\n",
       "      <td>0</td>\n",
       "      <td>276178</td>\n",
       "    </tr>\n",
       "    <tr>\n",
       "      <th>12</th>\n",
       "      <td>-1</td>\n",
       "      <td>5096865</td>\n",
       "      <td>5</td>\n",
       "      <td>0</td>\n",
       "      <td>625929</td>\n",
       "    </tr>\n",
       "    <tr>\n",
       "      <th>13</th>\n",
       "      <td>-1</td>\n",
       "      <td>228665</td>\n",
       "      <td>5</td>\n",
       "      <td>0</td>\n",
       "      <td>357774</td>\n",
       "    </tr>\n",
       "    <tr>\n",
       "      <th>17</th>\n",
       "      <td>-1</td>\n",
       "      <td>437143</td>\n",
       "      <td>5</td>\n",
       "      <td>0</td>\n",
       "      <td>607659</td>\n",
       "    </tr>\n",
       "    <tr>\n",
       "      <th>18</th>\n",
       "      <td>-1</td>\n",
       "      <td>18949861</td>\n",
       "      <td>5</td>\n",
       "      <td>0</td>\n",
       "      <td>275433</td>\n",
       "    </tr>\n",
       "    <tr>\n",
       "      <th>19</th>\n",
       "      <td>-1</td>\n",
       "      <td>2913377</td>\n",
       "      <td>5</td>\n",
       "      <td>0</td>\n",
       "      <td>496223</td>\n",
       "    </tr>\n",
       "    <tr>\n",
       "      <th>20</th>\n",
       "      <td>-1</td>\n",
       "      <td>1215032</td>\n",
       "      <td>5</td>\n",
       "      <td>0</td>\n",
       "      <td>60398</td>\n",
       "    </tr>\n",
       "    <tr>\n",
       "      <th>21</th>\n",
       "      <td>-1</td>\n",
       "      <td>883438</td>\n",
       "      <td>5</td>\n",
       "      <td>0</td>\n",
       "      <td>767233</td>\n",
       "    </tr>\n",
       "    <tr>\n",
       "      <th>22</th>\n",
       "      <td>-1</td>\n",
       "      <td>5578108</td>\n",
       "      <td>5</td>\n",
       "      <td>0</td>\n",
       "      <td>637486</td>\n",
       "    </tr>\n",
       "    <tr>\n",
       "      <th>23</th>\n",
       "      <td>-1</td>\n",
       "      <td>128029</td>\n",
       "      <td>5</td>\n",
       "      <td>0</td>\n",
       "      <td>78172</td>\n",
       "    </tr>\n",
       "    <tr>\n",
       "      <th>24</th>\n",
       "      <td>-1</td>\n",
       "      <td>77203</td>\n",
       "      <td>5</td>\n",
       "      <td>0</td>\n",
       "      <td>724379</td>\n",
       "    </tr>\n",
       "    <tr>\n",
       "      <th>25</th>\n",
       "      <td>-1</td>\n",
       "      <td>5439</td>\n",
       "      <td>5</td>\n",
       "      <td>0</td>\n",
       "      <td>633999</td>\n",
       "    </tr>\n",
       "    <tr>\n",
       "      <th>26</th>\n",
       "      <td>-1</td>\n",
       "      <td>1685995</td>\n",
       "      <td>5</td>\n",
       "      <td>0</td>\n",
       "      <td>188133</td>\n",
       "    </tr>\n",
       "    <tr>\n",
       "      <th>27</th>\n",
       "      <td>-1</td>\n",
       "      <td>6448772</td>\n",
       "      <td>5</td>\n",
       "      <td>0</td>\n",
       "      <td>671711</td>\n",
       "    </tr>\n",
       "    <tr>\n",
       "      <th>527</th>\n",
       "      <td>-1</td>\n",
       "      <td>8161140</td>\n",
       "      <td>1</td>\n",
       "      <td>0</td>\n",
       "      <td>742532</td>\n",
       "    </tr>\n",
       "    <tr>\n",
       "      <th>528</th>\n",
       "      <td>-1</td>\n",
       "      <td>28187</td>\n",
       "      <td>1</td>\n",
       "      <td>0</td>\n",
       "      <td>480322</td>\n",
       "    </tr>\n",
       "    <tr>\n",
       "      <th>531</th>\n",
       "      <td>-1</td>\n",
       "      <td>25659450</td>\n",
       "      <td>1</td>\n",
       "      <td>0</td>\n",
       "      <td>431105</td>\n",
       "    </tr>\n",
       "    <tr>\n",
       "      <th>532</th>\n",
       "      <td>-1</td>\n",
       "      <td>82599</td>\n",
       "      <td>1</td>\n",
       "      <td>0</td>\n",
       "      <td>746448</td>\n",
       "    </tr>\n",
       "  </tbody>\n",
       "</table>\n",
       "</div>"
      ],
      "text/plain": [
       "    user_id   book_id  rating  user_index  book_index\n",
       "0        -1   2517439       5           0      414880\n",
       "1        -1    113576       5           0       38971\n",
       "2        -1     35100       5           0      575858\n",
       "3        -1    228221       5           0      356004\n",
       "5        -1  17662739       5           0      214285\n",
       "6        -1    356824       5           0      581743\n",
       "7        -1  12125412       5           0       59763\n",
       "8        -1    139069       5           0      124430\n",
       "10       -1     76680       5           0      722098\n",
       "11       -1      1898       5           0      276178\n",
       "12       -1   5096865       5           0      625929\n",
       "13       -1    228665       5           0      357774\n",
       "17       -1    437143       5           0      607659\n",
       "18       -1  18949861       5           0      275433\n",
       "19       -1   2913377       5           0      496223\n",
       "20       -1   1215032       5           0       60398\n",
       "21       -1    883438       5           0      767233\n",
       "22       -1   5578108       5           0      637486\n",
       "23       -1    128029       5           0       78172\n",
       "24       -1     77203       5           0      724379\n",
       "25       -1      5439       5           0      633999\n",
       "26       -1   1685995       5           0      188133\n",
       "27       -1   6448772       5           0      671711\n",
       "527      -1   8161140       1           0      742532\n",
       "528      -1     28187       1           0      480322\n",
       "531      -1  25659450       1           0      431105\n",
       "532      -1     82599       1           0      746448"
      ]
     },
     "execution_count": 34,
     "metadata": {},
     "output_type": "execute_result"
    }
   ],
   "source": [
    "interactions[interactions['user_id'] == '-1']"
   ]
  },
  {
   "cell_type": "code",
   "execution_count": 35,
   "id": "de26ddb2-78ee-48d5-a02d-729fc6599d90",
   "metadata": {},
   "outputs": [],
   "source": [
    "my_index = 0"
   ]
  },
  {
   "cell_type": "code",
   "execution_count": 36,
   "id": "521ec0c7-a44f-49e8-bab1-66991e8ece90",
   "metadata": {},
   "outputs": [],
   "source": [
    "from sklearn.metrics.pairwise import cosine_similarity\n",
    "\n",
    "similarity = cosine_similarity(ratings_matrix[my_index, :], ratings_matrix).flatten()"
   ]
  },
  {
   "cell_type": "code",
   "execution_count": 40,
   "id": "090e7c1f-9c33-45ef-bb90-70d069589df3",
   "metadata": {},
   "outputs": [
    {
     "data": {
      "text/plain": [
       "0.9999999999999999"
      ]
     },
     "execution_count": 40,
     "metadata": {},
     "output_type": "execute_result"
    }
   ],
   "source": [
    "similarity[0]"
   ]
  },
  {
   "cell_type": "code",
   "execution_count": 41,
   "id": "ebb127e5-11ad-4a25-a7bf-70813ca6d31b",
   "metadata": {},
   "outputs": [],
   "source": [
    "import numpy as np\n",
    "\n",
    "indices = np.argpartition(similarity, -15)[-15:]"
   ]
  },
  {
   "cell_type": "code",
   "execution_count": 42,
   "id": "4a6d22e9-2d39-4b66-9b9a-4ad52af44cb5",
   "metadata": {},
   "outputs": [
    {
     "data": {
      "text/plain": [
       "array([1188,  942,  218,  129,  496,  435, 1208,  795, 1213, 1210, 1143,\n",
       "        321,  294,  862,    0])"
      ]
     },
     "execution_count": 42,
     "metadata": {},
     "output_type": "execute_result"
    }
   ],
   "source": [
    "indices"
   ]
  },
  {
   "cell_type": "code",
   "execution_count": 46,
   "id": "b03199f0-6d5a-473e-af05-0b8bded5f5f7",
   "metadata": {},
   "outputs": [],
   "source": [
    "similar_users = interactions[interactions['user_index'].isin(indices)].copy()"
   ]
  },
  {
   "cell_type": "code",
   "execution_count": 47,
   "id": "1290880c-a2c5-4a3e-a712-614887fdf3f5",
   "metadata": {},
   "outputs": [],
   "source": [
    "similar_users = similar_user[similar_user['user_id'] != '-1']"
   ]
  },
  {
   "cell_type": "code",
   "execution_count": 48,
   "id": "b070d8e7-fd57-43c0-aad9-7b42c3e8b6a5",
   "metadata": {},
   "outputs": [
    {
     "data": {
      "text/html": [
       "<div>\n",
       "<style scoped>\n",
       "    .dataframe tbody tr th:only-of-type {\n",
       "        vertical-align: middle;\n",
       "    }\n",
       "\n",
       "    .dataframe tbody tr th {\n",
       "        vertical-align: top;\n",
       "    }\n",
       "\n",
       "    .dataframe thead th {\n",
       "        text-align: right;\n",
       "    }\n",
       "</style>\n",
       "<table border=\"1\" class=\"dataframe\">\n",
       "  <thead>\n",
       "    <tr style=\"text-align: right;\">\n",
       "      <th></th>\n",
       "      <th>user_id</th>\n",
       "      <th>book_id</th>\n",
       "      <th>rating</th>\n",
       "      <th>user_index</th>\n",
       "      <th>book_index</th>\n",
       "    </tr>\n",
       "  </thead>\n",
       "  <tbody>\n",
       "    <tr>\n",
       "      <th>45312</th>\n",
       "      <td>4133</td>\n",
       "      <td>5359</td>\n",
       "      <td>3</td>\n",
       "      <td>942</td>\n",
       "      <td>632143</td>\n",
       "    </tr>\n",
       "    <tr>\n",
       "      <th>45313</th>\n",
       "      <td>4133</td>\n",
       "      <td>10464963</td>\n",
       "      <td>4</td>\n",
       "      <td>942</td>\n",
       "      <td>13492</td>\n",
       "    </tr>\n",
       "    <tr>\n",
       "      <th>45314</th>\n",
       "      <td>4133</td>\n",
       "      <td>3858</td>\n",
       "      <td>3</td>\n",
       "      <td>942</td>\n",
       "      <td>593622</td>\n",
       "    </tr>\n",
       "    <tr>\n",
       "      <th>45315</th>\n",
       "      <td>4133</td>\n",
       "      <td>11827808</td>\n",
       "      <td>4</td>\n",
       "      <td>942</td>\n",
       "      <td>51904</td>\n",
       "    </tr>\n",
       "    <tr>\n",
       "      <th>45316</th>\n",
       "      <td>4133</td>\n",
       "      <td>7913305</td>\n",
       "      <td>4</td>\n",
       "      <td>942</td>\n",
       "      <td>732465</td>\n",
       "    </tr>\n",
       "    <tr>\n",
       "      <th>...</th>\n",
       "      <td>...</td>\n",
       "      <td>...</td>\n",
       "      <td>...</td>\n",
       "      <td>...</td>\n",
       "      <td>...</td>\n",
       "    </tr>\n",
       "    <tr>\n",
       "      <th>5638521</th>\n",
       "      <td>712588</td>\n",
       "      <td>32388712</td>\n",
       "      <td>3</td>\n",
       "      <td>1143</td>\n",
       "      <td>543119</td>\n",
       "    </tr>\n",
       "    <tr>\n",
       "      <th>5638522</th>\n",
       "      <td>712588</td>\n",
       "      <td>16322</td>\n",
       "      <td>5</td>\n",
       "      <td>1143</td>\n",
       "      <td>183365</td>\n",
       "    </tr>\n",
       "    <tr>\n",
       "      <th>5638523</th>\n",
       "      <td>712588</td>\n",
       "      <td>860543</td>\n",
       "      <td>0</td>\n",
       "      <td>1143</td>\n",
       "      <td>759827</td>\n",
       "    </tr>\n",
       "    <tr>\n",
       "      <th>5638524</th>\n",
       "      <td>712588</td>\n",
       "      <td>853510</td>\n",
       "      <td>5</td>\n",
       "      <td>1143</td>\n",
       "      <td>756768</td>\n",
       "    </tr>\n",
       "    <tr>\n",
       "      <th>5638525</th>\n",
       "      <td>712588</td>\n",
       "      <td>13890</td>\n",
       "      <td>4</td>\n",
       "      <td>1143</td>\n",
       "      <td>124251</td>\n",
       "    </tr>\n",
       "  </tbody>\n",
       "</table>\n",
       "<p>4302 rows × 5 columns</p>\n",
       "</div>"
      ],
      "text/plain": [
       "        user_id   book_id  rating  user_index  book_index\n",
       "45312      4133      5359       3         942      632143\n",
       "45313      4133  10464963       4         942       13492\n",
       "45314      4133      3858       3         942      593622\n",
       "45315      4133  11827808       4         942       51904\n",
       "45316      4133   7913305       4         942      732465\n",
       "...         ...       ...     ...         ...         ...\n",
       "5638521  712588  32388712       3        1143      543119\n",
       "5638522  712588     16322       5        1143      183365\n",
       "5638523  712588    860543       0        1143      759827\n",
       "5638524  712588    853510       5        1143      756768\n",
       "5638525  712588     13890       4        1143      124251\n",
       "\n",
       "[4302 rows x 5 columns]"
      ]
     },
     "execution_count": 48,
     "metadata": {},
     "output_type": "execute_result"
    }
   ],
   "source": [
    "similar_users"
   ]
  },
  {
   "cell_type": "code",
   "execution_count": 49,
   "id": "2587eb66-ae04-4dea-b00d-a332773484c7",
   "metadata": {},
   "outputs": [],
   "source": [
    "book_recs = similar_users.groupby('book_id')['rating'].agg(['count', 'mean'])"
   ]
  },
  {
   "cell_type": "code",
   "execution_count": 50,
   "id": "5d9d91c8-fdfe-42b7-9319-be55a786850d",
   "metadata": {},
   "outputs": [
    {
     "data": {
      "text/html": [
       "<div>\n",
       "<style scoped>\n",
       "    .dataframe tbody tr th:only-of-type {\n",
       "        vertical-align: middle;\n",
       "    }\n",
       "\n",
       "    .dataframe tbody tr th {\n",
       "        vertical-align: top;\n",
       "    }\n",
       "\n",
       "    .dataframe thead th {\n",
       "        text-align: right;\n",
       "    }\n",
       "</style>\n",
       "<table border=\"1\" class=\"dataframe\">\n",
       "  <thead>\n",
       "    <tr style=\"text-align: right;\">\n",
       "      <th></th>\n",
       "      <th>count</th>\n",
       "      <th>mean</th>\n",
       "    </tr>\n",
       "    <tr>\n",
       "      <th>book_id</th>\n",
       "      <th></th>\n",
       "      <th></th>\n",
       "    </tr>\n",
       "  </thead>\n",
       "  <tbody>\n",
       "    <tr>\n",
       "      <th>1</th>\n",
       "      <td>6</td>\n",
       "      <td>3.833333</td>\n",
       "    </tr>\n",
       "    <tr>\n",
       "      <th>100322</th>\n",
       "      <td>1</td>\n",
       "      <td>0.000000</td>\n",
       "    </tr>\n",
       "    <tr>\n",
       "      <th>100365</th>\n",
       "      <td>1</td>\n",
       "      <td>0.000000</td>\n",
       "    </tr>\n",
       "    <tr>\n",
       "      <th>10046142</th>\n",
       "      <td>1</td>\n",
       "      <td>0.000000</td>\n",
       "    </tr>\n",
       "    <tr>\n",
       "      <th>1005</th>\n",
       "      <td>3</td>\n",
       "      <td>0.000000</td>\n",
       "    </tr>\n",
       "    <tr>\n",
       "      <th>...</th>\n",
       "      <td>...</td>\n",
       "      <td>...</td>\n",
       "    </tr>\n",
       "    <tr>\n",
       "      <th>99561</th>\n",
       "      <td>2</td>\n",
       "      <td>2.500000</td>\n",
       "    </tr>\n",
       "    <tr>\n",
       "      <th>99610</th>\n",
       "      <td>1</td>\n",
       "      <td>3.000000</td>\n",
       "    </tr>\n",
       "    <tr>\n",
       "      <th>99664</th>\n",
       "      <td>1</td>\n",
       "      <td>4.000000</td>\n",
       "    </tr>\n",
       "    <tr>\n",
       "      <th>9969571</th>\n",
       "      <td>3</td>\n",
       "      <td>2.333333</td>\n",
       "    </tr>\n",
       "    <tr>\n",
       "      <th>99944</th>\n",
       "      <td>1</td>\n",
       "      <td>0.000000</td>\n",
       "    </tr>\n",
       "  </tbody>\n",
       "</table>\n",
       "<p>2856 rows × 2 columns</p>\n",
       "</div>"
      ],
      "text/plain": [
       "          count      mean\n",
       "book_id                  \n",
       "1             6  3.833333\n",
       "100322        1  0.000000\n",
       "100365        1  0.000000\n",
       "10046142      1  0.000000\n",
       "1005          3  0.000000\n",
       "...         ...       ...\n",
       "99561         2  2.500000\n",
       "99610         1  3.000000\n",
       "99664         1  4.000000\n",
       "9969571       3  2.333333\n",
       "99944         1  0.000000\n",
       "\n",
       "[2856 rows x 2 columns]"
      ]
     },
     "execution_count": 50,
     "metadata": {},
     "output_type": "execute_result"
    }
   ],
   "source": [
    "book_recs"
   ]
  },
  {
   "cell_type": "code",
   "execution_count": 51,
   "id": "2ffdd2f8-4a87-4597-97b5-9f51e1ac2346",
   "metadata": {},
   "outputs": [],
   "source": [
    "book_titles = pd.read_json('book_titles.json')\n",
    "book_titles['book_id'] = book_titles['book_id'].astype(str)"
   ]
  },
  {
   "cell_type": "code",
   "execution_count": 52,
   "id": "231e1e66-6afc-4512-bdc6-281408bdc485",
   "metadata": {},
   "outputs": [],
   "source": [
    "book_recs = book_recs.merge(book_titles, how='inner', on='book_id')"
   ]
  },
  {
   "cell_type": "code",
   "execution_count": 53,
   "id": "f66c8eac-c7d4-4afe-932b-cc2502bdc08c",
   "metadata": {},
   "outputs": [
    {
     "data": {
      "text/html": [
       "<div>\n",
       "<style scoped>\n",
       "    .dataframe tbody tr th:only-of-type {\n",
       "        vertical-align: middle;\n",
       "    }\n",
       "\n",
       "    .dataframe tbody tr th {\n",
       "        vertical-align: top;\n",
       "    }\n",
       "\n",
       "    .dataframe thead th {\n",
       "        text-align: right;\n",
       "    }\n",
       "</style>\n",
       "<table border=\"1\" class=\"dataframe\">\n",
       "  <thead>\n",
       "    <tr style=\"text-align: right;\">\n",
       "      <th></th>\n",
       "      <th>book_id</th>\n",
       "      <th>count</th>\n",
       "      <th>mean</th>\n",
       "      <th>title</th>\n",
       "      <th>ratings</th>\n",
       "      <th>url</th>\n",
       "      <th>cover_image</th>\n",
       "      <th>mod_title</th>\n",
       "    </tr>\n",
       "  </thead>\n",
       "  <tbody>\n",
       "    <tr>\n",
       "      <th>0</th>\n",
       "      <td>1</td>\n",
       "      <td>6</td>\n",
       "      <td>3.833333</td>\n",
       "      <td>Harry Potter and the Half-Blood Prince (Harry ...</td>\n",
       "      <td>1713866</td>\n",
       "      <td>https://www.goodreads.com/book/show/1.Harry_Po...</td>\n",
       "      <td>https://images.gr-assets.com/books/1361039191m...</td>\n",
       "      <td>harry potter and the halfblood prince harry po...</td>\n",
       "    </tr>\n",
       "    <tr>\n",
       "      <th>1</th>\n",
       "      <td>100322</td>\n",
       "      <td>1</td>\n",
       "      <td>0.000000</td>\n",
       "      <td>Assata: An Autobiography</td>\n",
       "      <td>11057</td>\n",
       "      <td>https://www.goodreads.com/book/show/100322.Assata</td>\n",
       "      <td>https://images.gr-assets.com/books/1328857268m...</td>\n",
       "      <td>assata an autobiography</td>\n",
       "    </tr>\n",
       "    <tr>\n",
       "      <th>2</th>\n",
       "      <td>100365</td>\n",
       "      <td>1</td>\n",
       "      <td>0.000000</td>\n",
       "      <td>The Mote in God's Eye</td>\n",
       "      <td>48736</td>\n",
       "      <td>https://www.goodreads.com/book/show/100365.The...</td>\n",
       "      <td>https://images.gr-assets.com/books/1399490037m...</td>\n",
       "      <td>the mote in gods eye</td>\n",
       "    </tr>\n",
       "    <tr>\n",
       "      <th>3</th>\n",
       "      <td>10046142</td>\n",
       "      <td>1</td>\n",
       "      <td>0.000000</td>\n",
       "      <td>Dancing in the Glory of Monsters: The Collapse...</td>\n",
       "      <td>2391</td>\n",
       "      <td>https://www.goodreads.com/book/show/10046142-d...</td>\n",
       "      <td>https://images.gr-assets.com/books/1328757755m...</td>\n",
       "      <td>dancing in the glory of monsters the collapse ...</td>\n",
       "    </tr>\n",
       "    <tr>\n",
       "      <th>4</th>\n",
       "      <td>1005</td>\n",
       "      <td>3</td>\n",
       "      <td>0.000000</td>\n",
       "      <td>Think and Grow Rich</td>\n",
       "      <td>87634</td>\n",
       "      <td>https://www.goodreads.com/book/show/1005.Think...</td>\n",
       "      <td>https://s.gr-assets.com/assets/nophoto/book/11...</td>\n",
       "      <td>think and grow rich</td>\n",
       "    </tr>\n",
       "  </tbody>\n",
       "</table>\n",
       "</div>"
      ],
      "text/plain": [
       "    book_id  count      mean  \\\n",
       "0         1      6  3.833333   \n",
       "1    100322      1  0.000000   \n",
       "2    100365      1  0.000000   \n",
       "3  10046142      1  0.000000   \n",
       "4      1005      3  0.000000   \n",
       "\n",
       "                                               title  ratings  \\\n",
       "0  Harry Potter and the Half-Blood Prince (Harry ...  1713866   \n",
       "1                           Assata: An Autobiography    11057   \n",
       "2                              The Mote in God's Eye    48736   \n",
       "3  Dancing in the Glory of Monsters: The Collapse...     2391   \n",
       "4                                Think and Grow Rich    87634   \n",
       "\n",
       "                                                 url  \\\n",
       "0  https://www.goodreads.com/book/show/1.Harry_Po...   \n",
       "1  https://www.goodreads.com/book/show/100322.Assata   \n",
       "2  https://www.goodreads.com/book/show/100365.The...   \n",
       "3  https://www.goodreads.com/book/show/10046142-d...   \n",
       "4  https://www.goodreads.com/book/show/1005.Think...   \n",
       "\n",
       "                                         cover_image  \\\n",
       "0  https://images.gr-assets.com/books/1361039191m...   \n",
       "1  https://images.gr-assets.com/books/1328857268m...   \n",
       "2  https://images.gr-assets.com/books/1399490037m...   \n",
       "3  https://images.gr-assets.com/books/1328757755m...   \n",
       "4  https://s.gr-assets.com/assets/nophoto/book/11...   \n",
       "\n",
       "                                           mod_title  \n",
       "0  harry potter and the halfblood prince harry po...  \n",
       "1                            assata an autobiography  \n",
       "2                               the mote in gods eye  \n",
       "3  dancing in the glory of monsters the collapse ...  \n",
       "4                                think and grow rich  "
      ]
     },
     "execution_count": 53,
     "metadata": {},
     "output_type": "execute_result"
    }
   ],
   "source": [
    "book_recs.head()"
   ]
  },
  {
   "cell_type": "code",
   "execution_count": 54,
   "id": "08c640e3-cc8b-429e-9be6-d407983b1e7c",
   "metadata": {},
   "outputs": [],
   "source": [
    "book_recs['adjusted_count'] = book_recs['count'] * (book_recs['count'] / book_recs['ratings'])"
   ]
  },
  {
   "cell_type": "code",
   "execution_count": 55,
   "id": "b9687f09-6715-4ffa-9525-e5ca9c67608e",
   "metadata": {},
   "outputs": [],
   "source": [
    "book_recs['score'] = book_recs['mean'] * book_recs['adjusted_count']"
   ]
  },
  {
   "cell_type": "code",
   "execution_count": 56,
   "id": "9a0f9c64-f6e6-4d68-97cd-7f6c3629bc83",
   "metadata": {},
   "outputs": [],
   "source": [
    "book_recs = book_recs[~book_recs['book_id'].isin(my_books['book_id'])]"
   ]
  },
  {
   "cell_type": "code",
   "execution_count": 59,
   "id": "4f18b112-fdf9-4ce9-a032-2cbd329f582c",
   "metadata": {},
   "outputs": [],
   "source": [
    "my_books['mod_title'] = my_books['title'].str.replace('[^a-zA-Z0-9 ]', '', regex=True).str.lower()"
   ]
  },
  {
   "cell_type": "code",
   "execution_count": 60,
   "id": "7c1c12d6-f62a-44cc-8145-b717638f853c",
   "metadata": {},
   "outputs": [],
   "source": [
    "my_books['mod_title'] = my_books['mod_title'].str.replace('\\s+', ' ', regex=True)"
   ]
  },
  {
   "cell_type": "code",
   "execution_count": 61,
   "id": "3aa39f4d-64ad-45a2-ae3f-2c029eb1b589",
   "metadata": {},
   "outputs": [],
   "source": [
    "book_recs = book_recs[~book_recs['mod_title'].isin(my_books['mod_title'])]"
   ]
  },
  {
   "cell_type": "code",
   "execution_count": 62,
   "id": "37f98daa-8e14-49eb-807c-551c05b35549",
   "metadata": {},
   "outputs": [],
   "source": [
    "book_recs = book_recs[book_recs['count'] > 2]"
   ]
  },
  {
   "cell_type": "code",
   "execution_count": 63,
   "id": "6485cfc7-4045-4f29-9657-06e364d233e0",
   "metadata": {},
   "outputs": [],
   "source": [
    "book_recs = book_recs[book_recs['mean'] > 4]"
   ]
  },
  {
   "cell_type": "code",
   "execution_count": 64,
   "id": "ab2fa30d-77b0-4d98-894d-5e9b0cfdb521",
   "metadata": {},
   "outputs": [],
   "source": [
    "top_recs = book_recs.sort_values('score', ascending=False)"
   ]
  },
  {
   "cell_type": "code",
   "execution_count": 65,
   "id": "de367868-fe7f-44a2-af6d-dd0fa9c492d7",
   "metadata": {},
   "outputs": [
    {
     "data": {
      "text/html": [
       "<div>\n",
       "<style scoped>\n",
       "    .dataframe tbody tr th:only-of-type {\n",
       "        vertical-align: middle;\n",
       "    }\n",
       "\n",
       "    .dataframe tbody tr th {\n",
       "        vertical-align: top;\n",
       "    }\n",
       "\n",
       "    .dataframe thead th {\n",
       "        text-align: right;\n",
       "    }\n",
       "</style>\n",
       "<table border=\"1\" class=\"dataframe\">\n",
       "  <thead>\n",
       "    <tr style=\"text-align: right;\">\n",
       "      <th></th>\n",
       "      <th>book_id</th>\n",
       "      <th>count</th>\n",
       "      <th>mean</th>\n",
       "      <th>title</th>\n",
       "      <th>ratings</th>\n",
       "      <th>url</th>\n",
       "      <th>cover_image</th>\n",
       "      <th>mod_title</th>\n",
       "      <th>adjusted_count</th>\n",
       "      <th>score</th>\n",
       "    </tr>\n",
       "  </thead>\n",
       "  <tbody>\n",
       "    <tr>\n",
       "      <th>2558</th>\n",
       "      <td>78983</td>\n",
       "      <td>4</td>\n",
       "      <td>4.250000</td>\n",
       "      <td>Kane and Abel (Kane and Abel, #1)</td>\n",
       "      <td>75215</td>\n",
       "      <td>https://www.goodreads.com/book/show/78983.Kane...</td>\n",
       "      <td>https://s.gr-assets.com/assets/nophoto/book/11...</td>\n",
       "      <td>kane and abel kane and abel 1</td>\n",
       "      <td>0.000213</td>\n",
       "      <td>0.000904</td>\n",
       "    </tr>\n",
       "    <tr>\n",
       "      <th>1441</th>\n",
       "      <td>2767793</td>\n",
       "      <td>4</td>\n",
       "      <td>4.250000</td>\n",
       "      <td>The Hero of Ages (Mistborn, #3)</td>\n",
       "      <td>149260</td>\n",
       "      <td>https://www.goodreads.com/book/show/2767793-th...</td>\n",
       "      <td>https://images.gr-assets.com/books/1480717763m...</td>\n",
       "      <td>the hero of ages mistborn 3</td>\n",
       "      <td>0.000107</td>\n",
       "      <td>0.000456</td>\n",
       "    </tr>\n",
       "    <tr>\n",
       "      <th>2260</th>\n",
       "      <td>62291</td>\n",
       "      <td>5</td>\n",
       "      <td>4.800000</td>\n",
       "      <td>A Storm of Swords (A Song of Ice and Fire, #3)</td>\n",
       "      <td>477834</td>\n",
       "      <td>https://www.goodreads.com/book/show/62291.A_St...</td>\n",
       "      <td>https://images.gr-assets.com/books/1497931121m...</td>\n",
       "      <td>a storm of swords a song of ice and fire 3</td>\n",
       "      <td>0.000052</td>\n",
       "      <td>0.000251</td>\n",
       "    </tr>\n",
       "    <tr>\n",
       "      <th>1173</th>\n",
       "      <td>2318271</td>\n",
       "      <td>3</td>\n",
       "      <td>4.333333</td>\n",
       "      <td>The Last Lecture</td>\n",
       "      <td>245804</td>\n",
       "      <td>https://www.goodreads.com/book/show/2318271.Th...</td>\n",
       "      <td>https://images.gr-assets.com/books/1388075896m...</td>\n",
       "      <td>the last lecture</td>\n",
       "      <td>0.000037</td>\n",
       "      <td>0.000159</td>\n",
       "    </tr>\n",
       "    <tr>\n",
       "      <th>1100</th>\n",
       "      <td>22034</td>\n",
       "      <td>3</td>\n",
       "      <td>4.333333</td>\n",
       "      <td>The Godfather</td>\n",
       "      <td>259150</td>\n",
       "      <td>https://www.goodreads.com/book/show/22034.The_...</td>\n",
       "      <td>https://images.gr-assets.com/books/1394988109m...</td>\n",
       "      <td>the godfather</td>\n",
       "      <td>0.000035</td>\n",
       "      <td>0.000150</td>\n",
       "    </tr>\n",
       "    <tr>\n",
       "      <th>243</th>\n",
       "      <td>119322</td>\n",
       "      <td>4</td>\n",
       "      <td>4.250000</td>\n",
       "      <td>The Golden Compass (His Dark Materials, #1)</td>\n",
       "      <td>973154</td>\n",
       "      <td>https://www.goodreads.com/book/show/119322.The...</td>\n",
       "      <td>https://images.gr-assets.com/books/1505766203m...</td>\n",
       "      <td>the golden compass his dark materials 1</td>\n",
       "      <td>0.000016</td>\n",
       "      <td>0.000070</td>\n",
       "    </tr>\n",
       "    <tr>\n",
       "      <th>1906</th>\n",
       "      <td>4381</td>\n",
       "      <td>3</td>\n",
       "      <td>4.333333</td>\n",
       "      <td>Fahrenheit 451</td>\n",
       "      <td>591506</td>\n",
       "      <td>https://www.goodreads.com/book/show/4381.Fahre...</td>\n",
       "      <td>https://images.gr-assets.com/books/1351643740m...</td>\n",
       "      <td>fahrenheit 451</td>\n",
       "      <td>0.000015</td>\n",
       "      <td>0.000066</td>\n",
       "    </tr>\n",
       "    <tr>\n",
       "      <th>600</th>\n",
       "      <td>157993</td>\n",
       "      <td>3</td>\n",
       "      <td>4.333333</td>\n",
       "      <td>The Little Prince</td>\n",
       "      <td>763309</td>\n",
       "      <td>https://www.goodreads.com/book/show/157993.The...</td>\n",
       "      <td>https://images.gr-assets.com/books/1367545443m...</td>\n",
       "      <td>the little prince</td>\n",
       "      <td>0.000012</td>\n",
       "      <td>0.000051</td>\n",
       "    </tr>\n",
       "  </tbody>\n",
       "</table>\n",
       "</div>"
      ],
      "text/plain": [
       "      book_id  count      mean  \\\n",
       "2558    78983      4  4.250000   \n",
       "1441  2767793      4  4.250000   \n",
       "2260    62291      5  4.800000   \n",
       "1173  2318271      3  4.333333   \n",
       "1100    22034      3  4.333333   \n",
       "243    119322      4  4.250000   \n",
       "1906     4381      3  4.333333   \n",
       "600    157993      3  4.333333   \n",
       "\n",
       "                                               title  ratings  \\\n",
       "2558               Kane and Abel (Kane and Abel, #1)    75215   \n",
       "1441                 The Hero of Ages (Mistborn, #3)   149260   \n",
       "2260  A Storm of Swords (A Song of Ice and Fire, #3)   477834   \n",
       "1173                                The Last Lecture   245804   \n",
       "1100                                   The Godfather   259150   \n",
       "243      The Golden Compass (His Dark Materials, #1)   973154   \n",
       "1906                                  Fahrenheit 451   591506   \n",
       "600                                The Little Prince   763309   \n",
       "\n",
       "                                                    url  \\\n",
       "2558  https://www.goodreads.com/book/show/78983.Kane...   \n",
       "1441  https://www.goodreads.com/book/show/2767793-th...   \n",
       "2260  https://www.goodreads.com/book/show/62291.A_St...   \n",
       "1173  https://www.goodreads.com/book/show/2318271.Th...   \n",
       "1100  https://www.goodreads.com/book/show/22034.The_...   \n",
       "243   https://www.goodreads.com/book/show/119322.The...   \n",
       "1906  https://www.goodreads.com/book/show/4381.Fahre...   \n",
       "600   https://www.goodreads.com/book/show/157993.The...   \n",
       "\n",
       "                                            cover_image  \\\n",
       "2558  https://s.gr-assets.com/assets/nophoto/book/11...   \n",
       "1441  https://images.gr-assets.com/books/1480717763m...   \n",
       "2260  https://images.gr-assets.com/books/1497931121m...   \n",
       "1173  https://images.gr-assets.com/books/1388075896m...   \n",
       "1100  https://images.gr-assets.com/books/1394988109m...   \n",
       "243   https://images.gr-assets.com/books/1505766203m...   \n",
       "1906  https://images.gr-assets.com/books/1351643740m...   \n",
       "600   https://images.gr-assets.com/books/1367545443m...   \n",
       "\n",
       "                                       mod_title  adjusted_count     score  \n",
       "2558               kane and abel kane and abel 1        0.000213  0.000904  \n",
       "1441                 the hero of ages mistborn 3        0.000107  0.000456  \n",
       "2260  a storm of swords a song of ice and fire 3        0.000052  0.000251  \n",
       "1173                            the last lecture        0.000037  0.000159  \n",
       "1100                               the godfather        0.000035  0.000150  \n",
       "243      the golden compass his dark materials 1        0.000016  0.000070  \n",
       "1906                              fahrenheit 451        0.000015  0.000066  \n",
       "600                            the little prince        0.000012  0.000051  "
      ]
     },
     "execution_count": 65,
     "metadata": {},
     "output_type": "execute_result"
    }
   ],
   "source": [
    "top_recs"
   ]
  },
  {
   "cell_type": "code",
   "execution_count": 66,
   "id": "df6adfb4-ea7f-4a6d-856d-65f42bea8f7d",
   "metadata": {},
   "outputs": [],
   "source": [
    "def make_clickable(link):\n",
    "    return '<a target=\"_blank\", href=\"{}\">Goodreads</a>'.format(link)\n",
    "\n",
    "def show_image(link):\n",
    "    return '<img src=\"{}\", width=50></img>'.format(link)"
   ]
  },
  {
   "cell_type": "code",
   "execution_count": 67,
   "id": "7008788c-ac25-49af-beaf-4fb389d03d51",
   "metadata": {},
   "outputs": [
    {
     "data": {
      "text/html": [
       "<style type=\"text/css\">\n",
       "</style>\n",
       "<table id=\"T_d76da\">\n",
       "  <thead>\n",
       "    <tr>\n",
       "      <th class=\"blank level0\" >&nbsp;</th>\n",
       "      <th id=\"T_d76da_level0_col0\" class=\"col_heading level0 col0\" >book_id</th>\n",
       "      <th id=\"T_d76da_level0_col1\" class=\"col_heading level0 col1\" >count</th>\n",
       "      <th id=\"T_d76da_level0_col2\" class=\"col_heading level0 col2\" >mean</th>\n",
       "      <th id=\"T_d76da_level0_col3\" class=\"col_heading level0 col3\" >title</th>\n",
       "      <th id=\"T_d76da_level0_col4\" class=\"col_heading level0 col4\" >ratings</th>\n",
       "      <th id=\"T_d76da_level0_col5\" class=\"col_heading level0 col5\" >url</th>\n",
       "      <th id=\"T_d76da_level0_col6\" class=\"col_heading level0 col6\" >cover_image</th>\n",
       "      <th id=\"T_d76da_level0_col7\" class=\"col_heading level0 col7\" >mod_title</th>\n",
       "      <th id=\"T_d76da_level0_col8\" class=\"col_heading level0 col8\" >adjusted_count</th>\n",
       "      <th id=\"T_d76da_level0_col9\" class=\"col_heading level0 col9\" >score</th>\n",
       "    </tr>\n",
       "  </thead>\n",
       "  <tbody>\n",
       "    <tr>\n",
       "      <th id=\"T_d76da_level0_row0\" class=\"row_heading level0 row0\" >2558</th>\n",
       "      <td id=\"T_d76da_row0_col0\" class=\"data row0 col0\" >78983</td>\n",
       "      <td id=\"T_d76da_row0_col1\" class=\"data row0 col1\" >4</td>\n",
       "      <td id=\"T_d76da_row0_col2\" class=\"data row0 col2\" >4.250000</td>\n",
       "      <td id=\"T_d76da_row0_col3\" class=\"data row0 col3\" >Kane and Abel (Kane and Abel, #1)</td>\n",
       "      <td id=\"T_d76da_row0_col4\" class=\"data row0 col4\" >75215</td>\n",
       "      <td id=\"T_d76da_row0_col5\" class=\"data row0 col5\" ><a target=\"_blank\", href=\"https://www.goodreads.com/book/show/78983.Kane_and_Abel\">Goodreads</a></td>\n",
       "      <td id=\"T_d76da_row0_col6\" class=\"data row0 col6\" ><img src=\"https://s.gr-assets.com/assets/nophoto/book/111x148-bcc042a9c91a29c1d680899eff700a03.png\", width=50></img></td>\n",
       "      <td id=\"T_d76da_row0_col7\" class=\"data row0 col7\" >kane and abel kane and abel 1</td>\n",
       "      <td id=\"T_d76da_row0_col8\" class=\"data row0 col8\" >0.000213</td>\n",
       "      <td id=\"T_d76da_row0_col9\" class=\"data row0 col9\" >0.000904</td>\n",
       "    </tr>\n",
       "    <tr>\n",
       "      <th id=\"T_d76da_level0_row1\" class=\"row_heading level0 row1\" >1441</th>\n",
       "      <td id=\"T_d76da_row1_col0\" class=\"data row1 col0\" >2767793</td>\n",
       "      <td id=\"T_d76da_row1_col1\" class=\"data row1 col1\" >4</td>\n",
       "      <td id=\"T_d76da_row1_col2\" class=\"data row1 col2\" >4.250000</td>\n",
       "      <td id=\"T_d76da_row1_col3\" class=\"data row1 col3\" >The Hero of Ages (Mistborn, #3)</td>\n",
       "      <td id=\"T_d76da_row1_col4\" class=\"data row1 col4\" >149260</td>\n",
       "      <td id=\"T_d76da_row1_col5\" class=\"data row1 col5\" ><a target=\"_blank\", href=\"https://www.goodreads.com/book/show/2767793-the-hero-of-ages\">Goodreads</a></td>\n",
       "      <td id=\"T_d76da_row1_col6\" class=\"data row1 col6\" ><img src=\"https://images.gr-assets.com/books/1480717763m/2767793.jpg\", width=50></img></td>\n",
       "      <td id=\"T_d76da_row1_col7\" class=\"data row1 col7\" >the hero of ages mistborn 3</td>\n",
       "      <td id=\"T_d76da_row1_col8\" class=\"data row1 col8\" >0.000107</td>\n",
       "      <td id=\"T_d76da_row1_col9\" class=\"data row1 col9\" >0.000456</td>\n",
       "    </tr>\n",
       "    <tr>\n",
       "      <th id=\"T_d76da_level0_row2\" class=\"row_heading level0 row2\" >2260</th>\n",
       "      <td id=\"T_d76da_row2_col0\" class=\"data row2 col0\" >62291</td>\n",
       "      <td id=\"T_d76da_row2_col1\" class=\"data row2 col1\" >5</td>\n",
       "      <td id=\"T_d76da_row2_col2\" class=\"data row2 col2\" >4.800000</td>\n",
       "      <td id=\"T_d76da_row2_col3\" class=\"data row2 col3\" >A Storm of Swords (A Song of Ice and Fire, #3)</td>\n",
       "      <td id=\"T_d76da_row2_col4\" class=\"data row2 col4\" >477834</td>\n",
       "      <td id=\"T_d76da_row2_col5\" class=\"data row2 col5\" ><a target=\"_blank\", href=\"https://www.goodreads.com/book/show/62291.A_Storm_of_Swords\">Goodreads</a></td>\n",
       "      <td id=\"T_d76da_row2_col6\" class=\"data row2 col6\" ><img src=\"https://images.gr-assets.com/books/1497931121m/62291.jpg\", width=50></img></td>\n",
       "      <td id=\"T_d76da_row2_col7\" class=\"data row2 col7\" >a storm of swords a song of ice and fire 3</td>\n",
       "      <td id=\"T_d76da_row2_col8\" class=\"data row2 col8\" >0.000052</td>\n",
       "      <td id=\"T_d76da_row2_col9\" class=\"data row2 col9\" >0.000251</td>\n",
       "    </tr>\n",
       "    <tr>\n",
       "      <th id=\"T_d76da_level0_row3\" class=\"row_heading level0 row3\" >1173</th>\n",
       "      <td id=\"T_d76da_row3_col0\" class=\"data row3 col0\" >2318271</td>\n",
       "      <td id=\"T_d76da_row3_col1\" class=\"data row3 col1\" >3</td>\n",
       "      <td id=\"T_d76da_row3_col2\" class=\"data row3 col2\" >4.333333</td>\n",
       "      <td id=\"T_d76da_row3_col3\" class=\"data row3 col3\" >The Last Lecture</td>\n",
       "      <td id=\"T_d76da_row3_col4\" class=\"data row3 col4\" >245804</td>\n",
       "      <td id=\"T_d76da_row3_col5\" class=\"data row3 col5\" ><a target=\"_blank\", href=\"https://www.goodreads.com/book/show/2318271.The_Last_Lecture\">Goodreads</a></td>\n",
       "      <td id=\"T_d76da_row3_col6\" class=\"data row3 col6\" ><img src=\"https://images.gr-assets.com/books/1388075896m/2318271.jpg\", width=50></img></td>\n",
       "      <td id=\"T_d76da_row3_col7\" class=\"data row3 col7\" >the last lecture</td>\n",
       "      <td id=\"T_d76da_row3_col8\" class=\"data row3 col8\" >0.000037</td>\n",
       "      <td id=\"T_d76da_row3_col9\" class=\"data row3 col9\" >0.000159</td>\n",
       "    </tr>\n",
       "    <tr>\n",
       "      <th id=\"T_d76da_level0_row4\" class=\"row_heading level0 row4\" >1100</th>\n",
       "      <td id=\"T_d76da_row4_col0\" class=\"data row4 col0\" >22034</td>\n",
       "      <td id=\"T_d76da_row4_col1\" class=\"data row4 col1\" >3</td>\n",
       "      <td id=\"T_d76da_row4_col2\" class=\"data row4 col2\" >4.333333</td>\n",
       "      <td id=\"T_d76da_row4_col3\" class=\"data row4 col3\" >The Godfather</td>\n",
       "      <td id=\"T_d76da_row4_col4\" class=\"data row4 col4\" >259150</td>\n",
       "      <td id=\"T_d76da_row4_col5\" class=\"data row4 col5\" ><a target=\"_blank\", href=\"https://www.goodreads.com/book/show/22034.The_Godfather\">Goodreads</a></td>\n",
       "      <td id=\"T_d76da_row4_col6\" class=\"data row4 col6\" ><img src=\"https://images.gr-assets.com/books/1394988109m/22034.jpg\", width=50></img></td>\n",
       "      <td id=\"T_d76da_row4_col7\" class=\"data row4 col7\" >the godfather</td>\n",
       "      <td id=\"T_d76da_row4_col8\" class=\"data row4 col8\" >0.000035</td>\n",
       "      <td id=\"T_d76da_row4_col9\" class=\"data row4 col9\" >0.000150</td>\n",
       "    </tr>\n",
       "    <tr>\n",
       "      <th id=\"T_d76da_level0_row5\" class=\"row_heading level0 row5\" >243</th>\n",
       "      <td id=\"T_d76da_row5_col0\" class=\"data row5 col0\" >119322</td>\n",
       "      <td id=\"T_d76da_row5_col1\" class=\"data row5 col1\" >4</td>\n",
       "      <td id=\"T_d76da_row5_col2\" class=\"data row5 col2\" >4.250000</td>\n",
       "      <td id=\"T_d76da_row5_col3\" class=\"data row5 col3\" >The Golden Compass (His Dark Materials, #1)</td>\n",
       "      <td id=\"T_d76da_row5_col4\" class=\"data row5 col4\" >973154</td>\n",
       "      <td id=\"T_d76da_row5_col5\" class=\"data row5 col5\" ><a target=\"_blank\", href=\"https://www.goodreads.com/book/show/119322.The_Golden_Compass\">Goodreads</a></td>\n",
       "      <td id=\"T_d76da_row5_col6\" class=\"data row5 col6\" ><img src=\"https://images.gr-assets.com/books/1505766203m/119322.jpg\", width=50></img></td>\n",
       "      <td id=\"T_d76da_row5_col7\" class=\"data row5 col7\" >the golden compass his dark materials 1</td>\n",
       "      <td id=\"T_d76da_row5_col8\" class=\"data row5 col8\" >0.000016</td>\n",
       "      <td id=\"T_d76da_row5_col9\" class=\"data row5 col9\" >0.000070</td>\n",
       "    </tr>\n",
       "    <tr>\n",
       "      <th id=\"T_d76da_level0_row6\" class=\"row_heading level0 row6\" >1906</th>\n",
       "      <td id=\"T_d76da_row6_col0\" class=\"data row6 col0\" >4381</td>\n",
       "      <td id=\"T_d76da_row6_col1\" class=\"data row6 col1\" >3</td>\n",
       "      <td id=\"T_d76da_row6_col2\" class=\"data row6 col2\" >4.333333</td>\n",
       "      <td id=\"T_d76da_row6_col3\" class=\"data row6 col3\" >Fahrenheit 451</td>\n",
       "      <td id=\"T_d76da_row6_col4\" class=\"data row6 col4\" >591506</td>\n",
       "      <td id=\"T_d76da_row6_col5\" class=\"data row6 col5\" ><a target=\"_blank\", href=\"https://www.goodreads.com/book/show/4381.Fahrenheit_451\">Goodreads</a></td>\n",
       "      <td id=\"T_d76da_row6_col6\" class=\"data row6 col6\" ><img src=\"https://images.gr-assets.com/books/1351643740m/4381.jpg\", width=50></img></td>\n",
       "      <td id=\"T_d76da_row6_col7\" class=\"data row6 col7\" >fahrenheit 451</td>\n",
       "      <td id=\"T_d76da_row6_col8\" class=\"data row6 col8\" >0.000015</td>\n",
       "      <td id=\"T_d76da_row6_col9\" class=\"data row6 col9\" >0.000066</td>\n",
       "    </tr>\n",
       "    <tr>\n",
       "      <th id=\"T_d76da_level0_row7\" class=\"row_heading level0 row7\" >600</th>\n",
       "      <td id=\"T_d76da_row7_col0\" class=\"data row7 col0\" >157993</td>\n",
       "      <td id=\"T_d76da_row7_col1\" class=\"data row7 col1\" >3</td>\n",
       "      <td id=\"T_d76da_row7_col2\" class=\"data row7 col2\" >4.333333</td>\n",
       "      <td id=\"T_d76da_row7_col3\" class=\"data row7 col3\" >The Little Prince</td>\n",
       "      <td id=\"T_d76da_row7_col4\" class=\"data row7 col4\" >763309</td>\n",
       "      <td id=\"T_d76da_row7_col5\" class=\"data row7 col5\" ><a target=\"_blank\", href=\"https://www.goodreads.com/book/show/157993.The_Little_Prince\">Goodreads</a></td>\n",
       "      <td id=\"T_d76da_row7_col6\" class=\"data row7 col6\" ><img src=\"https://images.gr-assets.com/books/1367545443m/157993.jpg\", width=50></img></td>\n",
       "      <td id=\"T_d76da_row7_col7\" class=\"data row7 col7\" >the little prince</td>\n",
       "      <td id=\"T_d76da_row7_col8\" class=\"data row7 col8\" >0.000012</td>\n",
       "      <td id=\"T_d76da_row7_col9\" class=\"data row7 col9\" >0.000051</td>\n",
       "    </tr>\n",
       "  </tbody>\n",
       "</table>\n"
      ],
      "text/plain": [
       "<pandas.io.formats.style.Styler at 0x1a74c08b0>"
      ]
     },
     "execution_count": 67,
     "metadata": {},
     "output_type": "execute_result"
    }
   ],
   "source": [
    "top_recs.style.format({'url': make_clickable, 'cover_image': show_image})"
   ]
  },
  {
   "cell_type": "code",
   "execution_count": null,
   "id": "19444431-bd9f-4f32-b08d-dea192a142ff",
   "metadata": {},
   "outputs": [],
   "source": []
  }
 ],
 "metadata": {
  "kernelspec": {
   "display_name": "Python 3 (ipykernel)",
   "language": "python",
   "name": "python3"
  },
  "language_info": {
   "codemirror_mode": {
    "name": "ipython",
    "version": 3
   },
   "file_extension": ".py",
   "mimetype": "text/x-python",
   "name": "python",
   "nbconvert_exporter": "python",
   "pygments_lexer": "ipython3",
   "version": "3.10.1"
  }
 },
 "nbformat": 4,
 "nbformat_minor": 5
}
