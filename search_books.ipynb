{
 "cells": [
  {
   "cell_type": "code",
   "execution_count": 1,
   "id": "46eefdfe-51f7-4fec-a999-e31ba79e1746",
   "metadata": {},
   "outputs": [
    {
     "name": "stdout",
     "output_type": "stream",
     "text": [
      " 7588375 goodreads_books.json.gz\n"
     ]
    }
   ],
   "source": [
    "!wc -l goodreads_books.json.gz"
   ]
  },
  {
   "cell_type": "code",
   "execution_count": 2,
   "id": "1f23be53-3ba0-40fe-999b-0c863a697f8e",
   "metadata": {},
   "outputs": [
    {
     "name": "stdout",
     "output_type": "stream",
     "text": [
      "-rw-r--r--@ 1 abdullahalmomin  staff   1.9G Jun  7 10:51 goodreads_books.json.gz\n"
     ]
    }
   ],
   "source": [
    "!ls -lh | grep goodreads_books.json.gz"
   ]
  },
  {
   "cell_type": "code",
   "execution_count": 3,
   "id": "cd299ba8-5cbc-4d33-97ea-aba0585daace",
   "metadata": {},
   "outputs": [],
   "source": [
    "import gzip\n",
    "\n",
    "with gzip.open('goodreads_books.json.gz', 'r') as f:\n",
    "    line = f.readline()"
   ]
  },
  {
   "cell_type": "code",
   "execution_count": 4,
   "id": "4c765635-54a6-4477-b9a1-b521fa17b6af",
   "metadata": {},
   "outputs": [
    {
     "data": {
      "text/plain": [
       "b'{\"isbn\": \"0312853122\", \"text_reviews_count\": \"1\", \"series\": [], \"country_code\": \"US\", \"language_code\": \"\", \"popular_shelves\": [{\"count\": \"3\", \"name\": \"to-read\"}, {\"count\": \"1\", \"name\": \"p\"}, {\"count\": \"1\", \"name\": \"collection\"}, {\"count\": \"1\", \"name\": \"w-c-fields\"}, {\"count\": \"1\", \"name\": \"biography\"}], \"asin\": \"\", \"is_ebook\": \"false\", \"average_rating\": \"4.00\", \"kindle_asin\": \"\", \"similar_books\": [], \"description\": \"\", \"format\": \"Paperback\", \"link\": \"https://www.goodreads.com/book/show/5333265-w-c-fields\", \"authors\": [{\"author_id\": \"604031\", \"role\": \"\"}], \"publisher\": \"St. Martin\\'s Press\", \"num_pages\": \"256\", \"publication_day\": \"1\", \"isbn13\": \"9780312853129\", \"publication_month\": \"9\", \"edition_information\": \"\", \"publication_year\": \"1984\", \"url\": \"https://www.goodreads.com/book/show/5333265-w-c-fields\", \"image_url\": \"https://images.gr-assets.com/books/1310220028m/5333265.jpg\", \"book_id\": \"5333265\", \"ratings_count\": \"3\", \"work_id\": \"5400751\", \"title\": \"W.C. Fields: A Life on Film\", \"title_without_series\": \"W.C. Fields: A Life on Film\"}\\n'"
      ]
     },
     "execution_count": 4,
     "metadata": {},
     "output_type": "execute_result"
    }
   ],
   "source": [
    "line"
   ]
  },
  {
   "cell_type": "code",
   "execution_count": 5,
   "id": "b28ee478-ef5a-423b-baca-8192a73b1bff",
   "metadata": {},
   "outputs": [
    {
     "data": {
      "text/plain": [
       "{'isbn': '0312853122',\n",
       " 'text_reviews_count': '1',\n",
       " 'series': [],\n",
       " 'country_code': 'US',\n",
       " 'language_code': '',\n",
       " 'popular_shelves': [{'count': '3', 'name': 'to-read'},\n",
       "  {'count': '1', 'name': 'p'},\n",
       "  {'count': '1', 'name': 'collection'},\n",
       "  {'count': '1', 'name': 'w-c-fields'},\n",
       "  {'count': '1', 'name': 'biography'}],\n",
       " 'asin': '',\n",
       " 'is_ebook': 'false',\n",
       " 'average_rating': '4.00',\n",
       " 'kindle_asin': '',\n",
       " 'similar_books': [],\n",
       " 'description': '',\n",
       " 'format': 'Paperback',\n",
       " 'link': 'https://www.goodreads.com/book/show/5333265-w-c-fields',\n",
       " 'authors': [{'author_id': '604031', 'role': ''}],\n",
       " 'publisher': \"St. Martin's Press\",\n",
       " 'num_pages': '256',\n",
       " 'publication_day': '1',\n",
       " 'isbn13': '9780312853129',\n",
       " 'publication_month': '9',\n",
       " 'edition_information': '',\n",
       " 'publication_year': '1984',\n",
       " 'url': 'https://www.goodreads.com/book/show/5333265-w-c-fields',\n",
       " 'image_url': 'https://images.gr-assets.com/books/1310220028m/5333265.jpg',\n",
       " 'book_id': '5333265',\n",
       " 'ratings_count': '3',\n",
       " 'work_id': '5400751',\n",
       " 'title': 'W.C. Fields: A Life on Film',\n",
       " 'title_without_series': 'W.C. Fields: A Life on Film'}"
      ]
     },
     "execution_count": 5,
     "metadata": {},
     "output_type": "execute_result"
    }
   ],
   "source": [
    "import json\n",
    "\n",
    "json.loads(line)"
   ]
  },
  {
   "cell_type": "code",
   "execution_count": 7,
   "id": "de160977-976c-4487-bd92-1d1d82857ef2",
   "metadata": {},
   "outputs": [],
   "source": [
    "def parse_fields(line):\n",
    "    data = json.loads(line)\n",
    "    return {\n",
    "        'book_id': data['book_id'],\n",
    "        'title': data['title_without_series'],\n",
    "        'ratings': data['ratings_count'],\n",
    "        'url': data['url'],\n",
    "        'cover_image': data['image_url']\n",
    "    }"
   ]
  },
  {
   "cell_type": "code",
   "execution_count": 8,
   "id": "28e640ec-0d51-4db6-b4ed-19f92402a4a5",
   "metadata": {},
   "outputs": [],
   "source": [
    "book_titles = []\n",
    "with gzip.open('goodreads_books.json.gz', 'r') as f:\n",
    "    while True:\n",
    "        line = f.readline()        \n",
    "        if not line:\n",
    "            break\n",
    "        fields = parse_fields(line)\n",
    "        \n",
    "        try:\n",
    "            ratings = int(fields['ratings'])\n",
    "        except ValueError:\n",
    "            continue\n",
    "            \n",
    "        if ratings > 15:\n",
    "            book_titles.append(fields)"
   ]
  },
  {
   "cell_type": "code",
   "execution_count": 9,
   "id": "4ba20395-35eb-44cb-a1bc-79ac0abf7706",
   "metadata": {},
   "outputs": [],
   "source": [
    "import pandas as pd\n",
    "\n",
    "titles = pd.DataFrame.from_dict(book_titles)"
   ]
  },
  {
   "cell_type": "code",
   "execution_count": 10,
   "id": "32d58463-fa47-4016-bda8-325df158e62a",
   "metadata": {},
   "outputs": [
    {
     "data": {
      "text/html": [
       "<div>\n",
       "<style scoped>\n",
       "    .dataframe tbody tr th:only-of-type {\n",
       "        vertical-align: middle;\n",
       "    }\n",
       "\n",
       "    .dataframe tbody tr th {\n",
       "        vertical-align: top;\n",
       "    }\n",
       "\n",
       "    .dataframe thead th {\n",
       "        text-align: right;\n",
       "    }\n",
       "</style>\n",
       "<table border=\"1\" class=\"dataframe\">\n",
       "  <thead>\n",
       "    <tr style=\"text-align: right;\">\n",
       "      <th></th>\n",
       "      <th>book_id</th>\n",
       "      <th>title</th>\n",
       "      <th>ratings</th>\n",
       "      <th>url</th>\n",
       "      <th>cover_image</th>\n",
       "    </tr>\n",
       "  </thead>\n",
       "  <tbody>\n",
       "    <tr>\n",
       "      <th>0</th>\n",
       "      <td>7327624</td>\n",
       "      <td>The Unschooled Wizard (Sun Wolf and Starhawk, ...</td>\n",
       "      <td>140</td>\n",
       "      <td>https://www.goodreads.com/book/show/7327624-th...</td>\n",
       "      <td>https://images.gr-assets.com/books/1304100136m...</td>\n",
       "    </tr>\n",
       "    <tr>\n",
       "      <th>1</th>\n",
       "      <td>6066819</td>\n",
       "      <td>Best Friends Forever</td>\n",
       "      <td>51184</td>\n",
       "      <td>https://www.goodreads.com/book/show/6066819-be...</td>\n",
       "      <td>https://s.gr-assets.com/assets/nophoto/book/11...</td>\n",
       "    </tr>\n",
       "    <tr>\n",
       "      <th>2</th>\n",
       "      <td>287141</td>\n",
       "      <td>The Aeneid for Boys and Girls</td>\n",
       "      <td>46</td>\n",
       "      <td>https://www.goodreads.com/book/show/287141.The...</td>\n",
       "      <td>https://s.gr-assets.com/assets/nophoto/book/11...</td>\n",
       "    </tr>\n",
       "    <tr>\n",
       "      <th>3</th>\n",
       "      <td>6066812</td>\n",
       "      <td>All's Fairy in Love and War (Avalon: Web of Ma...</td>\n",
       "      <td>98</td>\n",
       "      <td>https://www.goodreads.com/book/show/6066812-al...</td>\n",
       "      <td>https://images.gr-assets.com/books/1316637798m...</td>\n",
       "    </tr>\n",
       "    <tr>\n",
       "      <th>4</th>\n",
       "      <td>287149</td>\n",
       "      <td>The Devil's Notebook</td>\n",
       "      <td>986</td>\n",
       "      <td>https://www.goodreads.com/book/show/287149.The...</td>\n",
       "      <td>https://images.gr-assets.com/books/1328768789m...</td>\n",
       "    </tr>\n",
       "  </tbody>\n",
       "</table>\n",
       "</div>"
      ],
      "text/plain": [
       "   book_id                                              title ratings  \\\n",
       "0  7327624  The Unschooled Wizard (Sun Wolf and Starhawk, ...     140   \n",
       "1  6066819                               Best Friends Forever   51184   \n",
       "2   287141                      The Aeneid for Boys and Girls      46   \n",
       "3  6066812  All's Fairy in Love and War (Avalon: Web of Ma...      98   \n",
       "4   287149                               The Devil's Notebook     986   \n",
       "\n",
       "                                                 url  \\\n",
       "0  https://www.goodreads.com/book/show/7327624-th...   \n",
       "1  https://www.goodreads.com/book/show/6066819-be...   \n",
       "2  https://www.goodreads.com/book/show/287141.The...   \n",
       "3  https://www.goodreads.com/book/show/6066812-al...   \n",
       "4  https://www.goodreads.com/book/show/287149.The...   \n",
       "\n",
       "                                         cover_image  \n",
       "0  https://images.gr-assets.com/books/1304100136m...  \n",
       "1  https://s.gr-assets.com/assets/nophoto/book/11...  \n",
       "2  https://s.gr-assets.com/assets/nophoto/book/11...  \n",
       "3  https://images.gr-assets.com/books/1316637798m...  \n",
       "4  https://images.gr-assets.com/books/1328768789m...  "
      ]
     },
     "execution_count": 10,
     "metadata": {},
     "output_type": "execute_result"
    }
   ],
   "source": [
    "titles.head()"
   ]
  },
  {
   "cell_type": "code",
   "execution_count": 12,
   "id": "51e1315c-b5ff-46c6-a317-f102fb99e428",
   "metadata": {},
   "outputs": [
    {
     "data": {
      "text/plain": [
       "book_id        object\n",
       "title          object\n",
       "ratings        object\n",
       "url            object\n",
       "cover_image    object\n",
       "dtype: object"
      ]
     },
     "execution_count": 12,
     "metadata": {},
     "output_type": "execute_result"
    }
   ],
   "source": [
    "titles.dtypes"
   ]
  },
  {
   "cell_type": "code",
   "execution_count": 13,
   "id": "e711ac6a-aabd-4f8c-b74f-0a4f3136b47f",
   "metadata": {},
   "outputs": [],
   "source": [
    "titles['ratings'] = pd.to_numeric(titles['ratings'])"
   ]
  },
  {
   "cell_type": "code",
   "execution_count": 15,
   "id": "3481bd08-f7c7-4063-8abb-83137f61263e",
   "metadata": {},
   "outputs": [],
   "source": [
    "titles['mod_title'] = titles['title'].str.replace('[^a-zA-Z0-9 ]', '', regex=True)"
   ]
  },
  {
   "cell_type": "code",
   "execution_count": 16,
   "id": "d370f6ba-0ee0-4247-a0ac-773b18bd1094",
   "metadata": {},
   "outputs": [
    {
     "data": {
      "text/html": [
       "<div>\n",
       "<style scoped>\n",
       "    .dataframe tbody tr th:only-of-type {\n",
       "        vertical-align: middle;\n",
       "    }\n",
       "\n",
       "    .dataframe tbody tr th {\n",
       "        vertical-align: top;\n",
       "    }\n",
       "\n",
       "    .dataframe thead th {\n",
       "        text-align: right;\n",
       "    }\n",
       "</style>\n",
       "<table border=\"1\" class=\"dataframe\">\n",
       "  <thead>\n",
       "    <tr style=\"text-align: right;\">\n",
       "      <th></th>\n",
       "      <th>book_id</th>\n",
       "      <th>title</th>\n",
       "      <th>ratings</th>\n",
       "      <th>url</th>\n",
       "      <th>cover_image</th>\n",
       "      <th>mod_title</th>\n",
       "    </tr>\n",
       "  </thead>\n",
       "  <tbody>\n",
       "    <tr>\n",
       "      <th>0</th>\n",
       "      <td>7327624</td>\n",
       "      <td>The Unschooled Wizard (Sun Wolf and Starhawk, ...</td>\n",
       "      <td>140</td>\n",
       "      <td>https://www.goodreads.com/book/show/7327624-th...</td>\n",
       "      <td>https://images.gr-assets.com/books/1304100136m...</td>\n",
       "      <td>The Unschooled Wizard Sun Wolf and Starhawk 12</td>\n",
       "    </tr>\n",
       "    <tr>\n",
       "      <th>1</th>\n",
       "      <td>6066819</td>\n",
       "      <td>Best Friends Forever</td>\n",
       "      <td>51184</td>\n",
       "      <td>https://www.goodreads.com/book/show/6066819-be...</td>\n",
       "      <td>https://s.gr-assets.com/assets/nophoto/book/11...</td>\n",
       "      <td>Best Friends Forever</td>\n",
       "    </tr>\n",
       "    <tr>\n",
       "      <th>2</th>\n",
       "      <td>287141</td>\n",
       "      <td>The Aeneid for Boys and Girls</td>\n",
       "      <td>46</td>\n",
       "      <td>https://www.goodreads.com/book/show/287141.The...</td>\n",
       "      <td>https://s.gr-assets.com/assets/nophoto/book/11...</td>\n",
       "      <td>The Aeneid for Boys and Girls</td>\n",
       "    </tr>\n",
       "    <tr>\n",
       "      <th>3</th>\n",
       "      <td>6066812</td>\n",
       "      <td>All's Fairy in Love and War (Avalon: Web of Ma...</td>\n",
       "      <td>98</td>\n",
       "      <td>https://www.goodreads.com/book/show/6066812-al...</td>\n",
       "      <td>https://images.gr-assets.com/books/1316637798m...</td>\n",
       "      <td>Alls Fairy in Love and War Avalon Web of Magic 8</td>\n",
       "    </tr>\n",
       "    <tr>\n",
       "      <th>4</th>\n",
       "      <td>287149</td>\n",
       "      <td>The Devil's Notebook</td>\n",
       "      <td>986</td>\n",
       "      <td>https://www.goodreads.com/book/show/287149.The...</td>\n",
       "      <td>https://images.gr-assets.com/books/1328768789m...</td>\n",
       "      <td>The Devils Notebook</td>\n",
       "    </tr>\n",
       "  </tbody>\n",
       "</table>\n",
       "</div>"
      ],
      "text/plain": [
       "   book_id                                              title  ratings  \\\n",
       "0  7327624  The Unschooled Wizard (Sun Wolf and Starhawk, ...      140   \n",
       "1  6066819                               Best Friends Forever    51184   \n",
       "2   287141                      The Aeneid for Boys and Girls       46   \n",
       "3  6066812  All's Fairy in Love and War (Avalon: Web of Ma...       98   \n",
       "4   287149                               The Devil's Notebook      986   \n",
       "\n",
       "                                                 url  \\\n",
       "0  https://www.goodreads.com/book/show/7327624-th...   \n",
       "1  https://www.goodreads.com/book/show/6066819-be...   \n",
       "2  https://www.goodreads.com/book/show/287141.The...   \n",
       "3  https://www.goodreads.com/book/show/6066812-al...   \n",
       "4  https://www.goodreads.com/book/show/287149.The...   \n",
       "\n",
       "                                         cover_image  \\\n",
       "0  https://images.gr-assets.com/books/1304100136m...   \n",
       "1  https://s.gr-assets.com/assets/nophoto/book/11...   \n",
       "2  https://s.gr-assets.com/assets/nophoto/book/11...   \n",
       "3  https://images.gr-assets.com/books/1316637798m...   \n",
       "4  https://images.gr-assets.com/books/1328768789m...   \n",
       "\n",
       "                                          mod_title  \n",
       "0    The Unschooled Wizard Sun Wolf and Starhawk 12  \n",
       "1                              Best Friends Forever  \n",
       "2                     The Aeneid for Boys and Girls  \n",
       "3  Alls Fairy in Love and War Avalon Web of Magic 8  \n",
       "4                               The Devils Notebook  "
      ]
     },
     "execution_count": 16,
     "metadata": {},
     "output_type": "execute_result"
    }
   ],
   "source": [
    "titles.head()"
   ]
  },
  {
   "cell_type": "code",
   "execution_count": 17,
   "id": "182ca8b7-0eda-4d8a-a9c0-02c000fdd40d",
   "metadata": {},
   "outputs": [],
   "source": [
    "titles['mod_title'] = titles['mod_title'].str.lower()"
   ]
  },
  {
   "cell_type": "code",
   "execution_count": 18,
   "id": "945fb9d9-dfdd-4954-8031-c23c22b6f513",
   "metadata": {},
   "outputs": [],
   "source": [
    "titles['mod_title'] = titles['mod_title'].str.replace('\\s+', ' ', regex=True)"
   ]
  },
  {
   "cell_type": "code",
   "execution_count": 19,
   "id": "e93ff8e5-875c-448d-8bd6-2f0503f9a020",
   "metadata": {},
   "outputs": [],
   "source": [
    "titles = titles[titles['mod_title'].str.len() > 0]"
   ]
  },
  {
   "cell_type": "code",
   "execution_count": 20,
   "id": "1e493617-03c1-45aa-ac01-20f262c5605b",
   "metadata": {},
   "outputs": [
    {
     "data": {
      "text/html": [
       "<div>\n",
       "<style scoped>\n",
       "    .dataframe tbody tr th:only-of-type {\n",
       "        vertical-align: middle;\n",
       "    }\n",
       "\n",
       "    .dataframe tbody tr th {\n",
       "        vertical-align: top;\n",
       "    }\n",
       "\n",
       "    .dataframe thead th {\n",
       "        text-align: right;\n",
       "    }\n",
       "</style>\n",
       "<table border=\"1\" class=\"dataframe\">\n",
       "  <thead>\n",
       "    <tr style=\"text-align: right;\">\n",
       "      <th></th>\n",
       "      <th>book_id</th>\n",
       "      <th>title</th>\n",
       "      <th>ratings</th>\n",
       "      <th>url</th>\n",
       "      <th>cover_image</th>\n",
       "      <th>mod_title</th>\n",
       "    </tr>\n",
       "  </thead>\n",
       "  <tbody>\n",
       "    <tr>\n",
       "      <th>0</th>\n",
       "      <td>7327624</td>\n",
       "      <td>The Unschooled Wizard (Sun Wolf and Starhawk, ...</td>\n",
       "      <td>140</td>\n",
       "      <td>https://www.goodreads.com/book/show/7327624-th...</td>\n",
       "      <td>https://images.gr-assets.com/books/1304100136m...</td>\n",
       "      <td>the unschooled wizard sun wolf and starhawk 12</td>\n",
       "    </tr>\n",
       "    <tr>\n",
       "      <th>1</th>\n",
       "      <td>6066819</td>\n",
       "      <td>Best Friends Forever</td>\n",
       "      <td>51184</td>\n",
       "      <td>https://www.goodreads.com/book/show/6066819-be...</td>\n",
       "      <td>https://s.gr-assets.com/assets/nophoto/book/11...</td>\n",
       "      <td>best friends forever</td>\n",
       "    </tr>\n",
       "    <tr>\n",
       "      <th>2</th>\n",
       "      <td>287141</td>\n",
       "      <td>The Aeneid for Boys and Girls</td>\n",
       "      <td>46</td>\n",
       "      <td>https://www.goodreads.com/book/show/287141.The...</td>\n",
       "      <td>https://s.gr-assets.com/assets/nophoto/book/11...</td>\n",
       "      <td>the aeneid for boys and girls</td>\n",
       "    </tr>\n",
       "    <tr>\n",
       "      <th>3</th>\n",
       "      <td>6066812</td>\n",
       "      <td>All's Fairy in Love and War (Avalon: Web of Ma...</td>\n",
       "      <td>98</td>\n",
       "      <td>https://www.goodreads.com/book/show/6066812-al...</td>\n",
       "      <td>https://images.gr-assets.com/books/1316637798m...</td>\n",
       "      <td>alls fairy in love and war avalon web of magic 8</td>\n",
       "    </tr>\n",
       "    <tr>\n",
       "      <th>4</th>\n",
       "      <td>287149</td>\n",
       "      <td>The Devil's Notebook</td>\n",
       "      <td>986</td>\n",
       "      <td>https://www.goodreads.com/book/show/287149.The...</td>\n",
       "      <td>https://images.gr-assets.com/books/1328768789m...</td>\n",
       "      <td>the devils notebook</td>\n",
       "    </tr>\n",
       "  </tbody>\n",
       "</table>\n",
       "</div>"
      ],
      "text/plain": [
       "   book_id                                              title  ratings  \\\n",
       "0  7327624  The Unschooled Wizard (Sun Wolf and Starhawk, ...      140   \n",
       "1  6066819                               Best Friends Forever    51184   \n",
       "2   287141                      The Aeneid for Boys and Girls       46   \n",
       "3  6066812  All's Fairy in Love and War (Avalon: Web of Ma...       98   \n",
       "4   287149                               The Devil's Notebook      986   \n",
       "\n",
       "                                                 url  \\\n",
       "0  https://www.goodreads.com/book/show/7327624-th...   \n",
       "1  https://www.goodreads.com/book/show/6066819-be...   \n",
       "2  https://www.goodreads.com/book/show/287141.The...   \n",
       "3  https://www.goodreads.com/book/show/6066812-al...   \n",
       "4  https://www.goodreads.com/book/show/287149.The...   \n",
       "\n",
       "                                         cover_image  \\\n",
       "0  https://images.gr-assets.com/books/1304100136m...   \n",
       "1  https://s.gr-assets.com/assets/nophoto/book/11...   \n",
       "2  https://s.gr-assets.com/assets/nophoto/book/11...   \n",
       "3  https://images.gr-assets.com/books/1316637798m...   \n",
       "4  https://images.gr-assets.com/books/1328768789m...   \n",
       "\n",
       "                                          mod_title  \n",
       "0    the unschooled wizard sun wolf and starhawk 12  \n",
       "1                              best friends forever  \n",
       "2                     the aeneid for boys and girls  \n",
       "3  alls fairy in love and war avalon web of magic 8  \n",
       "4                               the devils notebook  "
      ]
     },
     "execution_count": 20,
     "metadata": {},
     "output_type": "execute_result"
    }
   ],
   "source": [
    "titles.head()"
   ]
  },
  {
   "cell_type": "code",
   "execution_count": 21,
   "id": "7be8ab43-0f54-4100-9c12-e75ed25f5428",
   "metadata": {},
   "outputs": [],
   "source": [
    "titles.to_json('book_titles.json')"
   ]
  },
  {
   "cell_type": "code",
   "execution_count": 22,
   "id": "e196dd72-933f-4eca-a6e3-4b3bc417f7b0",
   "metadata": {},
   "outputs": [],
   "source": [
    "from sklearn.feature_extraction.text import TfidfVectorizer\n",
    "\n",
    "vectorizer = TfidfVectorizer()\n",
    "\n",
    "tfidf = vectorizer.fit_transform(titles['mod_title'])"
   ]
  },
  {
   "cell_type": "code",
   "execution_count": 35,
   "id": "4cde3d44-b9f3-43f7-992e-31ae41ad533a",
   "metadata": {},
   "outputs": [],
   "source": [
    "from sklearn.metrics.pairwise import cosine_similarity\n",
    "import numpy as np\n",
    "import re\n",
    "\n",
    "def make_clickable(link):\n",
    "    return '<a target=\"_blank\", href=\"{}\">Goodreads</a>'.format(link)\n",
    "\n",
    "def show_image(link):\n",
    "    return '<img src=\"{}\", width=50></img>'.format(link)\n",
    "\n",
    "def search(query, vectorizer):\n",
    "    processed = re.sub('[^a-zA-Z0-9 ]', '', query.lower())\n",
    "    query_vec = vectorizer.transform([processed])\n",
    "    similarity = cosine_similarity(query_vec, tfidf).flatten()\n",
    "    indices = np.argpartition(similarity, -10)[-10:]\n",
    "    results = titles.iloc[indices]\n",
    "    results = results.sort_values('ratings', ascending=False)\n",
    "    return results.head(5).style.format({'url': make_clickable, 'cover_image': show_image})"
   ]
  },
  {
   "cell_type": "code",
   "execution_count": 40,
   "id": "c76e6ea7-f1bf-4b11-9d13-2da3bf93bb83",
   "metadata": {},
   "outputs": [
    {
     "data": {
      "text/html": [
       "<style type=\"text/css\">\n",
       "</style>\n",
       "<table id=\"T_40a76\">\n",
       "  <thead>\n",
       "    <tr>\n",
       "      <th class=\"blank level0\" >&nbsp;</th>\n",
       "      <th id=\"T_40a76_level0_col0\" class=\"col_heading level0 col0\" >book_id</th>\n",
       "      <th id=\"T_40a76_level0_col1\" class=\"col_heading level0 col1\" >title</th>\n",
       "      <th id=\"T_40a76_level0_col2\" class=\"col_heading level0 col2\" >ratings</th>\n",
       "      <th id=\"T_40a76_level0_col3\" class=\"col_heading level0 col3\" >url</th>\n",
       "      <th id=\"T_40a76_level0_col4\" class=\"col_heading level0 col4\" >cover_image</th>\n",
       "      <th id=\"T_40a76_level0_col5\" class=\"col_heading level0 col5\" >mod_title</th>\n",
       "    </tr>\n",
       "  </thead>\n",
       "  <tbody>\n",
       "    <tr>\n",
       "      <th id=\"T_40a76_level0_row0\" class=\"row_heading level0 row0\" >907930</th>\n",
       "      <td id=\"T_40a76_row0_col0\" class=\"data row0 col0\" >28765183</td>\n",
       "      <td id=\"T_40a76_row0_col1\" class=\"data row0 col1\" >Harry Potter and the Prisoner of Azkaban</td>\n",
       "      <td id=\"T_40a76_row0_col2\" class=\"data row0 col2\" >3066</td>\n",
       "      <td id=\"T_40a76_row0_col3\" class=\"data row0 col3\" ><a target=\"_blank\", href=\"https://www.goodreads.com/book/show/28765183-harry-potter-and-the-prisoner-of-azkaban\">Goodreads</a></td>\n",
       "      <td id=\"T_40a76_row0_col4\" class=\"data row0 col4\" ><img src=\"https://s.gr-assets.com/assets/nophoto/book/111x148-bcc042a9c91a29c1d680899eff700a03.png\", width=50></img></td>\n",
       "      <td id=\"T_40a76_row0_col5\" class=\"data row0 col5\" >harry potter and the prisoner of azkaban</td>\n",
       "    </tr>\n",
       "    <tr>\n",
       "      <th id=\"T_40a76_level0_row1\" class=\"row_heading level0 row1\" >1004229</th>\n",
       "      <td id=\"T_40a76_row1_col0\" class=\"data row1 col0\" >7292006</td>\n",
       "      <td id=\"T_40a76_row1_col1\" class=\"data row1 col1\" >Harry Potter And The Prisoner Of Azkaban (Film)</td>\n",
       "      <td id=\"T_40a76_row1_col2\" class=\"data row1 col2\" >257</td>\n",
       "      <td id=\"T_40a76_row1_col3\" class=\"data row1 col3\" ><a target=\"_blank\", href=\"https://www.goodreads.com/book/show/7292006-harry-potter-and-the-prisoner-of-azkaban-film\">Goodreads</a></td>\n",
       "      <td id=\"T_40a76_row1_col4\" class=\"data row1 col4\" ><img src=\"https://s.gr-assets.com/assets/nophoto/book/111x148-bcc042a9c91a29c1d680899eff700a03.png\", width=50></img></td>\n",
       "      <td id=\"T_40a76_row1_col5\" class=\"data row1 col5\" >harry potter and the prisoner of azkaban film</td>\n",
       "    </tr>\n",
       "    <tr>\n",
       "      <th id=\"T_40a76_level0_row2\" class=\"row_heading level0 row2\" >323574</th>\n",
       "      <td id=\"T_40a76_row2_col0\" class=\"data row2 col0\" >13564690</td>\n",
       "      <td id=\"T_40a76_row2_col1\" class=\"data row2 col1\" >Harry Potter and the Prisoner of Azkaban</td>\n",
       "      <td id=\"T_40a76_row2_col2\" class=\"data row2 col2\" >216</td>\n",
       "      <td id=\"T_40a76_row2_col3\" class=\"data row2 col3\" ><a target=\"_blank\", href=\"https://www.goodreads.com/book/show/13564690-harry-potter-and-the-prisoner-of-azkaban\">Goodreads</a></td>\n",
       "      <td id=\"T_40a76_row2_col4\" class=\"data row2 col4\" ><img src=\"https://images.gr-assets.com/books/1332983314m/13564690.jpg\", width=50></img></td>\n",
       "      <td id=\"T_40a76_row2_col5\" class=\"data row2 col5\" >harry potter and the prisoner of azkaban</td>\n",
       "    </tr>\n",
       "    <tr>\n",
       "      <th id=\"T_40a76_level0_row3\" class=\"row_heading level0 row3\" >1191800</th>\n",
       "      <td id=\"T_40a76_row3_col0\" class=\"data row3 col0\" >939290</td>\n",
       "      <td id=\"T_40a76_row3_col1\" class=\"data row3 col1\" >The Prisoner</td>\n",
       "      <td id=\"T_40a76_row3_col2\" class=\"data row3 col2\" >189</td>\n",
       "      <td id=\"T_40a76_row3_col3\" class=\"data row3 col3\" ><a target=\"_blank\", href=\"https://www.goodreads.com/book/show/939290.The_Prisoner\">Goodreads</a></td>\n",
       "      <td id=\"T_40a76_row3_col4\" class=\"data row3 col4\" ><img src=\"https://s.gr-assets.com/assets/nophoto/book/111x148-bcc042a9c91a29c1d680899eff700a03.png\", width=50></img></td>\n",
       "      <td id=\"T_40a76_row3_col5\" class=\"data row3 col5\" >the prisoner</td>\n",
       "    </tr>\n",
       "    <tr>\n",
       "      <th id=\"T_40a76_level0_row4\" class=\"row_heading level0 row4\" >1065727</th>\n",
       "      <td id=\"T_40a76_row4_col0\" class=\"data row4 col0\" >11448275</td>\n",
       "      <td id=\"T_40a76_row4_col1\" class=\"data row4 col1\" >Prisoner</td>\n",
       "      <td id=\"T_40a76_row4_col2\" class=\"data row4 col2\" >79</td>\n",
       "      <td id=\"T_40a76_row4_col3\" class=\"data row4 col3\" ><a target=\"_blank\", href=\"https://www.goodreads.com/book/show/11448275-prisoner\">Goodreads</a></td>\n",
       "      <td id=\"T_40a76_row4_col4\" class=\"data row4 col4\" ><img src=\"https://images.gr-assets.com/books/1328179139m/11448275.jpg\", width=50></img></td>\n",
       "      <td id=\"T_40a76_row4_col5\" class=\"data row4 col5\" >prisoner</td>\n",
       "    </tr>\n",
       "  </tbody>\n",
       "</table>\n"
      ],
      "text/plain": [
       "<pandas.io.formats.style.Styler at 0x156e26680>"
      ]
     },
     "execution_count": 40,
     "metadata": {},
     "output_type": "execute_result"
    }
   ],
   "source": [
    "search('prisoner of azkaban', vectorizer)"
   ]
  },
  {
   "cell_type": "code",
   "execution_count": 38,
   "id": "e38ea20e-abc7-48f9-abca-6b5b5d420b71",
   "metadata": {},
   "outputs": [
    {
     "data": {
      "text/html": [
       "<style type=\"text/css\">\n",
       "</style>\n",
       "<table id=\"T_b87be\">\n",
       "  <thead>\n",
       "    <tr>\n",
       "      <th class=\"blank level0\" >&nbsp;</th>\n",
       "      <th id=\"T_b87be_level0_col0\" class=\"col_heading level0 col0\" >book_id</th>\n",
       "      <th id=\"T_b87be_level0_col1\" class=\"col_heading level0 col1\" >title</th>\n",
       "      <th id=\"T_b87be_level0_col2\" class=\"col_heading level0 col2\" >ratings</th>\n",
       "      <th id=\"T_b87be_level0_col3\" class=\"col_heading level0 col3\" >url</th>\n",
       "      <th id=\"T_b87be_level0_col4\" class=\"col_heading level0 col4\" >cover_image</th>\n",
       "      <th id=\"T_b87be_level0_col5\" class=\"col_heading level0 col5\" >mod_title</th>\n",
       "    </tr>\n",
       "  </thead>\n",
       "  <tbody>\n",
       "    <tr>\n",
       "      <th id=\"T_b87be_level0_row0\" class=\"row_heading level0 row0\" >638824</th>\n",
       "      <td id=\"T_b87be_row0_col0\" class=\"data row0 col0\" >5996629</td>\n",
       "      <td id=\"T_b87be_row0_col1\" class=\"data row0 col1\" >Foundation (Foundation, #1)</td>\n",
       "      <td id=\"T_b87be_row0_col2\" class=\"data row0 col2\" >5359</td>\n",
       "      <td id=\"T_b87be_row0_col3\" class=\"data row0 col3\" ><a target=\"_blank\", href=\"https://www.goodreads.com/book/show/5996629-foundation\">Goodreads</a></td>\n",
       "      <td id=\"T_b87be_row0_col4\" class=\"data row0 col4\" ><img src=\"https://images.gr-assets.com/books/1301851340m/5996629.jpg\", width=50></img></td>\n",
       "      <td id=\"T_b87be_row0_col5\" class=\"data row0 col5\" >foundation foundation 1</td>\n",
       "    </tr>\n",
       "    <tr>\n",
       "      <th id=\"T_b87be_level0_row1\" class=\"row_heading level0 row1\" >1229317</th>\n",
       "      <td id=\"T_b87be_row1_col0\" class=\"data row1 col0\" >414853</td>\n",
       "      <td id=\"T_b87be_row1_col1\" class=\"data row1 col1\" >Foundation (Foundation, #1)</td>\n",
       "      <td id=\"T_b87be_row1_col2\" class=\"data row1 col2\" >604</td>\n",
       "      <td id=\"T_b87be_row1_col3\" class=\"data row1 col3\" ><a target=\"_blank\", href=\"https://www.goodreads.com/book/show/414853.Foundation\">Goodreads</a></td>\n",
       "      <td id=\"T_b87be_row1_col4\" class=\"data row1 col4\" ><img src=\"https://images.gr-assets.com/books/1395929677m/414853.jpg\", width=50></img></td>\n",
       "      <td id=\"T_b87be_row1_col5\" class=\"data row1 col5\" >foundation foundation 1</td>\n",
       "    </tr>\n",
       "    <tr>\n",
       "      <th id=\"T_b87be_level0_row2\" class=\"row_heading level0 row2\" >1204348</th>\n",
       "      <td id=\"T_b87be_row2_col0\" class=\"data row2 col0\" >7352028</td>\n",
       "      <td id=\"T_b87be_row2_col1\" class=\"data row2 col1\" >Foundation (Foundation, #1)</td>\n",
       "      <td id=\"T_b87be_row2_col2\" class=\"data row2 col2\" >318</td>\n",
       "      <td id=\"T_b87be_row2_col3\" class=\"data row2 col3\" ><a target=\"_blank\", href=\"https://www.goodreads.com/book/show/7352028-foundation\">Goodreads</a></td>\n",
       "      <td id=\"T_b87be_row2_col4\" class=\"data row2 col4\" ><img src=\"https://s.gr-assets.com/assets/nophoto/book/111x148-bcc042a9c91a29c1d680899eff700a03.png\", width=50></img></td>\n",
       "      <td id=\"T_b87be_row2_col5\" class=\"data row2 col5\" >foundation foundation 1</td>\n",
       "    </tr>\n",
       "    <tr>\n",
       "      <th id=\"T_b87be_level0_row3\" class=\"row_heading level0 row3\" >694488</th>\n",
       "      <td id=\"T_b87be_row3_col0\" class=\"data row3 col0\" >9401317</td>\n",
       "      <td id=\"T_b87be_row3_col1\" class=\"data row3 col1\" >Foundation (Foundation, #1)</td>\n",
       "      <td id=\"T_b87be_row3_col2\" class=\"data row3 col2\" >204</td>\n",
       "      <td id=\"T_b87be_row3_col3\" class=\"data row3 col3\" ><a target=\"_blank\", href=\"https://www.goodreads.com/book/show/9401317-foundation\">Goodreads</a></td>\n",
       "      <td id=\"T_b87be_row3_col4\" class=\"data row3 col4\" ><img src=\"https://images.gr-assets.com/books/1303761888m/9401317.jpg\", width=50></img></td>\n",
       "      <td id=\"T_b87be_row3_col5\" class=\"data row3 col5\" >foundation foundation 1</td>\n",
       "    </tr>\n",
       "    <tr>\n",
       "      <th id=\"T_b87be_level0_row4\" class=\"row_heading level0 row4\" >541719</th>\n",
       "      <td id=\"T_b87be_row4_col0\" class=\"data row4 col0\" >920239</td>\n",
       "      <td id=\"T_b87be_row4_col1\" class=\"data row4 col1\" >Foundation (Foundation, #1)</td>\n",
       "      <td id=\"T_b87be_row4_col2\" class=\"data row4 col2\" >192</td>\n",
       "      <td id=\"T_b87be_row4_col3\" class=\"data row4 col3\" ><a target=\"_blank\", href=\"https://www.goodreads.com/book/show/920239.Foundation\">Goodreads</a></td>\n",
       "      <td id=\"T_b87be_row4_col4\" class=\"data row4 col4\" ><img src=\"https://images.gr-assets.com/books/1259669908m/920239.jpg\", width=50></img></td>\n",
       "      <td id=\"T_b87be_row4_col5\" class=\"data row4 col5\" >foundation foundation 1</td>\n",
       "    </tr>\n",
       "  </tbody>\n",
       "</table>\n"
      ],
      "text/plain": [
       "<pandas.io.formats.style.Styler at 0x154c34850>"
      ]
     },
     "execution_count": 38,
     "metadata": {},
     "output_type": "execute_result"
    }
   ],
   "source": [
    "search('foundation', vectorizer)"
   ]
  },
  {
   "cell_type": "code",
   "execution_count": null,
   "id": "b208af99-b70c-43f8-a2c9-aa7744c34771",
   "metadata": {},
   "outputs": [],
   "source": [
    "liked_books = ['4408', '31147619', '5996629', '28765183', '8132407', '31147619', '20494944']"
   ]
  }
 ],
 "metadata": {
  "kernelspec": {
   "display_name": "Python 3 (ipykernel)",
   "language": "python",
   "name": "python3"
  },
  "language_info": {
   "codemirror_mode": {
    "name": "ipython",
    "version": 3
   },
   "file_extension": ".py",
   "mimetype": "text/x-python",
   "name": "python",
   "nbconvert_exporter": "python",
   "pygments_lexer": "ipython3",
   "version": "3.10.1"
  }
 },
 "nbformat": 4,
 "nbformat_minor": 5
}
